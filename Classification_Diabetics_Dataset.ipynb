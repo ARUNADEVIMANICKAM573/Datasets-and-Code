{
  "nbformat": 4,
  "nbformat_minor": 0,
  "metadata": {
    "colab": {
      "provenance": [],
      "collapsed_sections": [],
      "authorship_tag": "ABX9TyPwTgISuy8CHN5pjvrCr8t6",
      "include_colab_link": true
    },
    "kernelspec": {
      "name": "python3",
      "display_name": "Python 3"
    },
    "language_info": {
      "name": "python"
    }
  },
  "cells": [
    {
      "cell_type": "markdown",
      "metadata": {
        "id": "view-in-github",
        "colab_type": "text"
      },
      "source": [
        "<a href=\"https://colab.research.google.com/github/mathewmauriyan/naruto-uzumaki/blob/mathewmauriyan-datasets/Classification_Diabetics_Dataset.ipynb\" target=\"_parent\"><img src=\"https://colab.research.google.com/assets/colab-badge.svg\" alt=\"Open In Colab\"/></a>"
      ]
    },
    {
      "cell_type": "code",
      "execution_count": 1,
      "metadata": {
        "id": "So53eKYmpL3s"
      },
      "outputs": [],
      "source": [
        "import numpy as np\n",
        "import pandas as pd\n",
        "from matplotlib import pyplot as plt\n",
        "import seaborn as sns"
      ]
    },
    {
      "cell_type": "code",
      "source": [
        "diabetic_1 = pd.read_csv('https://raw.githubusercontent.com/ammishra08/MachineLearning/master/Datasets/Diabetes_Preprocessing.csv')"
      ],
      "metadata": {
        "id": "M4xF5vN_pWQY"
      },
      "execution_count": 2,
      "outputs": []
    },
    {
      "cell_type": "code",
      "source": [
        "diabetic_1.info()"
      ],
      "metadata": {
        "colab": {
          "base_uri": "https://localhost:8080/"
        },
        "id": "UTOWrPsPptJL",
        "outputId": "9e0339ef-4d8a-4503-e39c-958c800d6e44"
      },
      "execution_count": 3,
      "outputs": [
        {
          "output_type": "stream",
          "name": "stdout",
          "text": [
            "<class 'pandas.core.frame.DataFrame'>\n",
            "RangeIndex: 768 entries, 0 to 767\n",
            "Data columns (total 9 columns):\n",
            " #   Column                    Non-Null Count  Dtype  \n",
            "---  ------                    --------------  -----  \n",
            " 0   Pregnancies               768 non-null    int64  \n",
            " 1   Glucose                   763 non-null    float64\n",
            " 2   BloodPressure             733 non-null    float64\n",
            " 3   SkinThickness             541 non-null    float64\n",
            " 4   Insulin                   394 non-null    float64\n",
            " 5   BMI                       757 non-null    float64\n",
            " 6   DiabetesPedigreeFunction  768 non-null    float64\n",
            " 7   Age                       768 non-null    int64  \n",
            " 8   Outcome                   768 non-null    int64  \n",
            "dtypes: float64(6), int64(3)\n",
            "memory usage: 54.1 KB\n"
          ]
        }
      ]
    },
    {
      "cell_type": "code",
      "source": [
        "diabetic_1['SkinThickness'].unique()"
      ],
      "metadata": {
        "colab": {
          "base_uri": "https://localhost:8080/"
        },
        "id": "jTXx1n39pxJL",
        "outputId": "35f04b87-f061-4ecd-875d-1c062831a2a9"
      },
      "execution_count": 4,
      "outputs": [
        {
          "output_type": "execute_result",
          "data": {
            "text/plain": [
              "array([35., 29., nan, 23., 32., 45., 19., 47., 38.,  3., 41., 33., 26.,\n",
              "       15., 36., 11., 31., 37., 42., 25., 18., 24., 39., 27., 21., 34.,\n",
              "        1.,  6., 13.,  2., 22., 28., 54.,  4., 51., 56., 14., 17.,  5.,\n",
              "       44., 12., 46., 16.,  7., 52., 43., 48.,  8., 49., 63., 99.])"
            ]
          },
          "metadata": {},
          "execution_count": 4
        }
      ]
    },
    {
      "cell_type": "code",
      "source": [
        "diabetic_2 = diabetic_1.copy()"
      ],
      "metadata": {
        "id": "0liS9X88p_n8"
      },
      "execution_count": 5,
      "outputs": []
    },
    {
      "cell_type": "code",
      "source": [
        "diabetic_2.info()"
      ],
      "metadata": {
        "colab": {
          "base_uri": "https://localhost:8080/"
        },
        "id": "I1I2R3J3rojh",
        "outputId": "ef915dce-509d-41ab-88ac-c002d40763f0"
      },
      "execution_count": 6,
      "outputs": [
        {
          "output_type": "stream",
          "name": "stdout",
          "text": [
            "<class 'pandas.core.frame.DataFrame'>\n",
            "RangeIndex: 768 entries, 0 to 767\n",
            "Data columns (total 9 columns):\n",
            " #   Column                    Non-Null Count  Dtype  \n",
            "---  ------                    --------------  -----  \n",
            " 0   Pregnancies               768 non-null    int64  \n",
            " 1   Glucose                   763 non-null    float64\n",
            " 2   BloodPressure             733 non-null    float64\n",
            " 3   SkinThickness             541 non-null    float64\n",
            " 4   Insulin                   394 non-null    float64\n",
            " 5   BMI                       757 non-null    float64\n",
            " 6   DiabetesPedigreeFunction  768 non-null    float64\n",
            " 7   Age                       768 non-null    int64  \n",
            " 8   Outcome                   768 non-null    int64  \n",
            "dtypes: float64(6), int64(3)\n",
            "memory usage: 54.1 KB\n"
          ]
        }
      ]
    },
    {
      "cell_type": "code",
      "source": [
        "diabetic_3 = diabetic_2.drop([\"Pregnancies\",\"Outcome\"], axis=1)"
      ],
      "metadata": {
        "id": "XRgj5ChKtPE3"
      },
      "execution_count": 7,
      "outputs": []
    },
    {
      "cell_type": "code",
      "source": [
        "diabetic_3.info()"
      ],
      "metadata": {
        "colab": {
          "base_uri": "https://localhost:8080/"
        },
        "id": "8GRUMB7_t59D",
        "outputId": "4dd0c972-362c-4489-892a-b74ccf267ed2"
      },
      "execution_count": 8,
      "outputs": [
        {
          "output_type": "stream",
          "name": "stdout",
          "text": [
            "<class 'pandas.core.frame.DataFrame'>\n",
            "RangeIndex: 768 entries, 0 to 767\n",
            "Data columns (total 7 columns):\n",
            " #   Column                    Non-Null Count  Dtype  \n",
            "---  ------                    --------------  -----  \n",
            " 0   Glucose                   763 non-null    float64\n",
            " 1   BloodPressure             733 non-null    float64\n",
            " 2   SkinThickness             541 non-null    float64\n",
            " 3   Insulin                   394 non-null    float64\n",
            " 4   BMI                       757 non-null    float64\n",
            " 5   DiabetesPedigreeFunction  768 non-null    float64\n",
            " 6   Age                       768 non-null    int64  \n",
            "dtypes: float64(6), int64(1)\n",
            "memory usage: 42.1 KB\n"
          ]
        }
      ]
    },
    {
      "cell_type": "markdown",
      "source": [
        "Simple Imputer is the nest method to handle Missing values"
      ],
      "metadata": {
        "id": "_AiSMSsHqnqA"
      }
    },
    {
      "cell_type": "code",
      "source": [
        "diabetic_3.replace(0,np.nan, inplace=True)"
      ],
      "metadata": {
        "id": "LyDYx99_uBEQ"
      },
      "execution_count": 9,
      "outputs": []
    },
    {
      "cell_type": "code",
      "source": [
        "diabetic_3.isnull().sum().sort_values(ascending = False)"
      ],
      "metadata": {
        "colab": {
          "base_uri": "https://localhost:8080/"
        },
        "id": "F7SOXZzSuTCa",
        "outputId": "28903107-8e20-407a-81dc-78a2fd5a1330"
      },
      "execution_count": 10,
      "outputs": [
        {
          "output_type": "execute_result",
          "data": {
            "text/plain": [
              "Insulin                     374\n",
              "SkinThickness               227\n",
              "BloodPressure                35\n",
              "BMI                          11\n",
              "Glucose                       5\n",
              "DiabetesPedigreeFunction      0\n",
              "Age                           0\n",
              "dtype: int64"
            ]
          },
          "metadata": {},
          "execution_count": 10
        }
      ]
    },
    {
      "cell_type": "code",
      "source": [
        "diabetic_3['Insulin'].unique()"
      ],
      "metadata": {
        "colab": {
          "base_uri": "https://localhost:8080/"
        },
        "id": "aL2BcukErhG3",
        "outputId": "dc679945-c63f-4eed-efcb-a22dd0d49a7c"
      },
      "execution_count": 11,
      "outputs": [
        {
          "output_type": "execute_result",
          "data": {
            "text/plain": [
              "array([ nan,  94., 168.,  88., 543., 846., 175.,  23.,  83.,  96., 235.,\n",
              "       146., 115.,  14.,  11., 245.,  54., 192.,  27.,   7.,  24.,  82.,\n",
              "        36.,   3., 342.,  34., 142., 128.,  38.,   1.,   9.,  71., 125.,\n",
              "       176.,  48.,  64., 228.,  76.,  22.,   4., 152.,  18., 135., 495.,\n",
              "        37.,  51.,  99., 145., 225.,  49.,   5.,  92., 325.,  63., 284.,\n",
              "       119., 155., 485.,  53., 114.,  15., 285., 156.,  78.,  13.,  55.,\n",
              "        58.,  16.,  21., 318.,  44.,  19.,  28.,  87., 271., 129.,  12.,\n",
              "       478.,  56.,  32., 744.,  45., 194.,  68.,  42., 258., 375.,  67.,\n",
              "        57., 116., 278., 122., 545.,  75.,  74., 182., 215., 184., 132.,\n",
              "       148.,  25.,  85., 231.,  29.,  52., 255., 171.,  73.,  43., 167.,\n",
              "       249., 293.,  66., 465.,  89., 158.,  84.,  72.,  59.,  81., 196.,\n",
              "       415., 275., 165., 579.,  31.,  61., 474.,  17., 277.,   6.,  95.,\n",
              "       237., 191., 328., 265., 193.,  79.,  86., 326., 188.,  65., 166.,\n",
              "       274.,  77., 126.,  33., 185.,  41., 272., 321., 144., 183.,  91.,\n",
              "        46., 159.,   2., 335., 387., 291., 392., 178., 127., 112.])"
            ]
          },
          "metadata": {},
          "execution_count": 11
        }
      ]
    },
    {
      "cell_type": "markdown",
      "source": [
        "Since 'Insulin has Discrete values we can replace the missing values by 'Mean' "
      ],
      "metadata": {
        "id": "gRJbWexQvQF6"
      }
    },
    {
      "cell_type": "code",
      "source": [
        "np.round(diabetic_3['Insulin'].mean())"
      ],
      "metadata": {
        "colab": {
          "base_uri": "https://localhost:8080/"
        },
        "id": "fp5B6FqkvaFC",
        "outputId": "2c4d6ef2-656c-4021-97cc-a715523a5e2f"
      },
      "execution_count": 12,
      "outputs": [
        {
          "output_type": "execute_result",
          "data": {
            "text/plain": [
              "106.0"
            ]
          },
          "metadata": {},
          "execution_count": 12
        }
      ]
    },
    {
      "cell_type": "code",
      "source": [
        "diabetic_3['Insulin'].replace(np.nan,np.round(diabetic_3['Insulin'].mean()), inplace=True)"
      ],
      "metadata": {
        "id": "eDa1p4T1v3P2"
      },
      "execution_count": 13,
      "outputs": []
    },
    {
      "cell_type": "code",
      "source": [
        "diabetic_3.isnull().sum().sort_values(ascending=False)"
      ],
      "metadata": {
        "colab": {
          "base_uri": "https://localhost:8080/"
        },
        "id": "GDapZvk0wjxC",
        "outputId": "3f4471c9-5f03-4cc6-d224-be6aa27d9d94"
      },
      "execution_count": 14,
      "outputs": [
        {
          "output_type": "execute_result",
          "data": {
            "text/plain": [
              "SkinThickness               227\n",
              "BloodPressure                35\n",
              "BMI                          11\n",
              "Glucose                       5\n",
              "Insulin                       0\n",
              "DiabetesPedigreeFunction      0\n",
              "Age                           0\n",
              "dtype: int64"
            ]
          },
          "metadata": {},
          "execution_count": 14
        }
      ]
    },
    {
      "cell_type": "code",
      "source": [
        "diabetic_3['SkinThickness'].unique()"
      ],
      "metadata": {
        "colab": {
          "base_uri": "https://localhost:8080/"
        },
        "id": "7lBXLhaYw7X6",
        "outputId": "088d3f68-227c-4bf0-9e22-a8aae92f7540"
      },
      "execution_count": 15,
      "outputs": [
        {
          "output_type": "execute_result",
          "data": {
            "text/plain": [
              "array([35., 29., nan, 23., 32., 45., 19., 47., 38.,  3., 41., 33., 26.,\n",
              "       15., 36., 11., 31., 37., 42., 25., 18., 24., 39., 27., 21., 34.,\n",
              "        1.,  6., 13.,  2., 22., 28., 54.,  4., 51., 56., 14., 17.,  5.,\n",
              "       44., 12., 46., 16.,  7., 52., 43., 48.,  8., 49., 63., 99.])"
            ]
          },
          "metadata": {},
          "execution_count": 15
        }
      ]
    },
    {
      "cell_type": "code",
      "source": [
        "diabetic_3['SkinThickness'].mean()"
      ],
      "metadata": {
        "colab": {
          "base_uri": "https://localhost:8080/"
        },
        "id": "LpDcgnT9xffQ",
        "outputId": "5e7b36b6-b388-406b-aea9-4307a50501ad"
      },
      "execution_count": 16,
      "outputs": [
        {
          "output_type": "execute_result",
          "data": {
            "text/plain": [
              "25.87615526802218"
            ]
          },
          "metadata": {},
          "execution_count": 16
        }
      ]
    },
    {
      "cell_type": "code",
      "source": [
        "np.round(diabetic_3['SkinThickness'].mean())"
      ],
      "metadata": {
        "colab": {
          "base_uri": "https://localhost:8080/"
        },
        "id": "swd-eqrdxoSV",
        "outputId": "7c9cf063-5b43-4c97-d80d-831c161060a2"
      },
      "execution_count": 17,
      "outputs": [
        {
          "output_type": "execute_result",
          "data": {
            "text/plain": [
              "26.0"
            ]
          },
          "metadata": {},
          "execution_count": 17
        }
      ]
    },
    {
      "cell_type": "code",
      "source": [
        "diabetic_3['SkinThickness'].replace(np.nan,np.round(diabetic_3['SkinThickness'].mean()), inplace=True)"
      ],
      "metadata": {
        "id": "P1RnXd0Oxs_h"
      },
      "execution_count": 18,
      "outputs": []
    },
    {
      "cell_type": "code",
      "source": [
        "diabetic_3.info()"
      ],
      "metadata": {
        "colab": {
          "base_uri": "https://localhost:8080/"
        },
        "id": "61FVU446x7Rq",
        "outputId": "111290d0-7c3a-456b-e12d-fd6e0f77803b"
      },
      "execution_count": 19,
      "outputs": [
        {
          "output_type": "stream",
          "name": "stdout",
          "text": [
            "<class 'pandas.core.frame.DataFrame'>\n",
            "RangeIndex: 768 entries, 0 to 767\n",
            "Data columns (total 7 columns):\n",
            " #   Column                    Non-Null Count  Dtype  \n",
            "---  ------                    --------------  -----  \n",
            " 0   Glucose                   763 non-null    float64\n",
            " 1   BloodPressure             733 non-null    float64\n",
            " 2   SkinThickness             768 non-null    float64\n",
            " 3   Insulin                   768 non-null    float64\n",
            " 4   BMI                       757 non-null    float64\n",
            " 5   DiabetesPedigreeFunction  768 non-null    float64\n",
            " 6   Age                       768 non-null    int64  \n",
            "dtypes: float64(6), int64(1)\n",
            "memory usage: 42.1 KB\n"
          ]
        }
      ]
    },
    {
      "cell_type": "code",
      "source": [
        "diabetic_3.isnull().sum().sort_values(ascending=False)"
      ],
      "metadata": {
        "colab": {
          "base_uri": "https://localhost:8080/"
        },
        "id": "sTecFvzsx_PM",
        "outputId": "217531b5-a652-4b2f-8afe-c06ada3e843f"
      },
      "execution_count": 20,
      "outputs": [
        {
          "output_type": "execute_result",
          "data": {
            "text/plain": [
              "BloodPressure               35\n",
              "BMI                         11\n",
              "Glucose                      5\n",
              "SkinThickness                0\n",
              "Insulin                      0\n",
              "DiabetesPedigreeFunction     0\n",
              "Age                          0\n",
              "dtype: int64"
            ]
          },
          "metadata": {},
          "execution_count": 20
        }
      ]
    },
    {
      "cell_type": "code",
      "source": [
        "diabetic_3['BloodPressure'].unique()"
      ],
      "metadata": {
        "colab": {
          "base_uri": "https://localhost:8080/"
        },
        "id": "_bGIVukIyJln",
        "outputId": "d6fab80b-8afa-40ef-9f96-25557f71454d"
      },
      "execution_count": 21,
      "outputs": [
        {
          "output_type": "execute_result",
          "data": {
            "text/plain": [
              "array([ 72.,  66.,  64.,   4.,  74.,   5.,  nan,   7.,  96.,  92.,   8.,\n",
              "         6.,  84.,   3.,  88.,   9.,  94.,  76.,  82.,  75.,  58.,  78.,\n",
              "        68.,  11.,  56.,  62.,  85.,  86.,  48.,  44.,  65.,  18.,  55.,\n",
              "       122.,  54.,  52.,  98.,  14.,  95.,  46.,  12.,   1.,  61.,  24.,\n",
              "        38.,  16., 114.])"
            ]
          },
          "metadata": {},
          "execution_count": 21
        }
      ]
    },
    {
      "cell_type": "code",
      "source": [
        "np.round(diabetic_3['BloodPressure'].mean())"
      ],
      "metadata": {
        "colab": {
          "base_uri": "https://localhost:8080/"
        },
        "id": "FFv5mBIFyWrh",
        "outputId": "9d480cca-604e-42c3-d478-f53777e5a3ba"
      },
      "execution_count": 22,
      "outputs": [
        {
          "output_type": "execute_result",
          "data": {
            "text/plain": [
              "56.0"
            ]
          },
          "metadata": {},
          "execution_count": 22
        }
      ]
    },
    {
      "cell_type": "code",
      "source": [
        "diabetic_3['BloodPressure'].median()"
      ],
      "metadata": {
        "colab": {
          "base_uri": "https://localhost:8080/"
        },
        "id": "LaOpzzlfymXS",
        "outputId": "c813b221-8f88-4e90-f7c4-053ef45054ea"
      },
      "execution_count": 23,
      "outputs": [
        {
          "output_type": "execute_result",
          "data": {
            "text/plain": [
              "66.0"
            ]
          },
          "metadata": {},
          "execution_count": 23
        }
      ]
    },
    {
      "cell_type": "code",
      "source": [
        "diabetic_3['BloodPressure'].replace(np.nan, np.round(diabetic_3['BloodPressure'].mean()), inplace=True)"
      ],
      "metadata": {
        "id": "RytfSpU8ypmL"
      },
      "execution_count": 24,
      "outputs": []
    },
    {
      "cell_type": "code",
      "source": [
        "diabetic_3.info()"
      ],
      "metadata": {
        "colab": {
          "base_uri": "https://localhost:8080/"
        },
        "id": "jE4sIteEyxHv",
        "outputId": "71dc9641-7b0d-4032-cd4a-bbbf13050ff1"
      },
      "execution_count": 25,
      "outputs": [
        {
          "output_type": "stream",
          "name": "stdout",
          "text": [
            "<class 'pandas.core.frame.DataFrame'>\n",
            "RangeIndex: 768 entries, 0 to 767\n",
            "Data columns (total 7 columns):\n",
            " #   Column                    Non-Null Count  Dtype  \n",
            "---  ------                    --------------  -----  \n",
            " 0   Glucose                   763 non-null    float64\n",
            " 1   BloodPressure             768 non-null    float64\n",
            " 2   SkinThickness             768 non-null    float64\n",
            " 3   Insulin                   768 non-null    float64\n",
            " 4   BMI                       757 non-null    float64\n",
            " 5   DiabetesPedigreeFunction  768 non-null    float64\n",
            " 6   Age                       768 non-null    int64  \n",
            "dtypes: float64(6), int64(1)\n",
            "memory usage: 42.1 KB\n"
          ]
        }
      ]
    },
    {
      "cell_type": "code",
      "source": [
        "diabetic_3.isnull().sum().sort_values(ascending=False)"
      ],
      "metadata": {
        "colab": {
          "base_uri": "https://localhost:8080/"
        },
        "id": "YBX6yWWSzTk3",
        "outputId": "5e539918-4b2e-4ea8-ac2b-e35142d73058"
      },
      "execution_count": 26,
      "outputs": [
        {
          "output_type": "execute_result",
          "data": {
            "text/plain": [
              "BMI                         11\n",
              "Glucose                      5\n",
              "BloodPressure                0\n",
              "SkinThickness                0\n",
              "Insulin                      0\n",
              "DiabetesPedigreeFunction     0\n",
              "Age                          0\n",
              "dtype: int64"
            ]
          },
          "metadata": {},
          "execution_count": 26
        }
      ]
    },
    {
      "cell_type": "code",
      "source": [
        "diabetic_3['BMI'].unique()"
      ],
      "metadata": {
        "colab": {
          "base_uri": "https://localhost:8080/"
        },
        "id": "ByGbaO8yzfTm",
        "outputId": "9d5cf048-af32-4bf8-e915-7154bd60527e"
      },
      "execution_count": 27,
      "outputs": [
        {
          "output_type": "execute_result",
          "data": {
            "text/plain": [
              "array([33.6, 26.6, 23.3, 28.1, 43.1, 25.6, 31. , 35.3,  3.5,  nan, 37.6,\n",
              "       38. , 27.1,  3.1, 25.8,  3. , 45.8, 29.6, 43.3, 34.6, 39.3, 35.4,\n",
              "       39.8, 29. , 36.6, 31.1, 39.4, 23.2, 22.2, 34.1, 36. , 31.6, 24.8,\n",
              "       19.9, 27.6, 24. , 33.2, 32.9, 38.2, 37.1, 34. ,  4.2, 22.7, 45.4,\n",
              "       27.4, 42. , 29.7, 28. , 39.1, 19.4, 24.2, 24.4, 33.7, 34.7, 23. ,\n",
              "       37.7, 46.8,  4.5, 41.5, 25. , 25.4, 32.8, 32.5, 42.7, 19.6, 28.9,\n",
              "       28.6, 43.4, 35.1, 32. , 24.7, 32.6, 43.2, 22.4, 29.3, 24.6, 48.8,\n",
              "       32.4, 38.5, 26.5, 19.1, 46.7, 23.8, 33.9,  2.4, 28.7, 49.7, 39. ,\n",
              "       26.1, 22.5, 39.6, 29.5, 34.3, 37.4, 33.3, 31.2, 28.2, 53.2, 34.2,\n",
              "       26.8, 55. , 42.9, 34.5, 27.9, 38.3, 21.1, 33.8,  3.8, 36.9, 39.5,\n",
              "       27.3, 21.9,  4.6, 47.9,  5. , 25.2,  4.9, 37.2, 44.2, 29.9, 31.9,\n",
              "       28.4, 43.5, 32.7, 67.1, 45. , 34.9, 27.7, 35.9, 22.6, 33.1,  3.4,\n",
              "       52.3, 24.3, 22.9, 34.8,  3.9,  4.1, 23.9, 37.5, 35.5, 42.8, 42.6,\n",
              "       41.8, 35.8, 37.8, 28.8, 23.6, 35.7, 36.7, 45.2, 44. , 46.2, 35. ,\n",
              "       43.6, 44.1, 18.4, 29.2, 25.9, 32.1, 36.3,  4. , 25.1, 27.5, 45.6,\n",
              "       27.8, 24.9, 25.3, 37.9, 27. , 26. , 38.7,  2.8, 36.1,  3.7, 32.3,\n",
              "       52.9, 21. , 39.7, 25.5, 26.2, 19.3, 38.1, 23.5, 45.5, 23.1, 39.9,\n",
              "       36.8, 21.8, 41. , 42.2, 34.4, 27.2, 36.5, 29.8, 39.2, 38.4, 36.2,\n",
              "       48.3,  2. , 22.3, 45.7, 23.7, 22.1, 42.1, 42.4, 18.2, 26.4, 45.3,\n",
              "       37. , 24.5, 32.2, 59.4, 21.2, 26.7,  3.2, 46.1, 41.3, 38.8, 35.2,\n",
              "       42.3,  4.7, 46.5, 33.5, 37.3,  3.3, 26.3, 21.7, 36.4, 28.5, 26.9,\n",
              "       38.6, 31.3, 19.5,  2.1,  4.8, 23.4, 28.3, 38.9, 57.3, 35.6, 49.6,\n",
              "       44.6, 24.1, 44.5, 41.2, 49.3, 46.3])"
            ]
          },
          "metadata": {},
          "execution_count": 27
        }
      ]
    },
    {
      "cell_type": "code",
      "source": [
        "diabetic_3['BMI'].mean()"
      ],
      "metadata": {
        "colab": {
          "base_uri": "https://localhost:8080/"
        },
        "id": "duKeRbKzzwEv",
        "outputId": "3a4b4c34-51e0-4e4d-c59a-d81596f64610"
      },
      "execution_count": 28,
      "outputs": [
        {
          "output_type": "execute_result",
          "data": {
            "text/plain": [
              "29.86565389696169"
            ]
          },
          "metadata": {},
          "execution_count": 28
        }
      ]
    },
    {
      "cell_type": "code",
      "source": [
        "diabetic_3['BMI'].median()"
      ],
      "metadata": {
        "colab": {
          "base_uri": "https://localhost:8080/"
        },
        "id": "tX3YOpYzzyxm",
        "outputId": "397c249f-b33a-4ccc-b686-ea3e591c140f"
      },
      "execution_count": 29,
      "outputs": [
        {
          "output_type": "execute_result",
          "data": {
            "text/plain": [
              "32.0"
            ]
          },
          "metadata": {},
          "execution_count": 29
        }
      ]
    },
    {
      "cell_type": "code",
      "source": [
        "diabetic_3['BMI'].replace(np.nan, np.round(diabetic_3['BMI'].median()), inplace=True)"
      ],
      "metadata": {
        "id": "v_EwCV4Az1er"
      },
      "execution_count": 30,
      "outputs": []
    },
    {
      "cell_type": "code",
      "source": [
        "diabetic_3.isnull().sum().sort_values(ascending=False)"
      ],
      "metadata": {
        "colab": {
          "base_uri": "https://localhost:8080/"
        },
        "id": "accJ1_YX0JiJ",
        "outputId": "f5ca7397-d1fe-410b-e2e3-5ab1fc128f61"
      },
      "execution_count": 31,
      "outputs": [
        {
          "output_type": "execute_result",
          "data": {
            "text/plain": [
              "Glucose                     5\n",
              "BloodPressure               0\n",
              "SkinThickness               0\n",
              "Insulin                     0\n",
              "BMI                         0\n",
              "DiabetesPedigreeFunction    0\n",
              "Age                         0\n",
              "dtype: int64"
            ]
          },
          "metadata": {},
          "execution_count": 31
        }
      ]
    },
    {
      "cell_type": "code",
      "source": [
        "diabetic_3['Glucose'].unique()"
      ],
      "metadata": {
        "colab": {
          "base_uri": "https://localhost:8080/"
        },
        "id": "FB43R4c50TNV",
        "outputId": "81b76f47-abb8-4ad9-e4f1-08a0b6046197"
      },
      "execution_count": 32,
      "outputs": [
        {
          "output_type": "execute_result",
          "data": {
            "text/plain": [
              "array([148.,  85., 183.,  89., 137., 116.,  78., 115., 197., 125.,  11.,\n",
              "       168., 139., 189., 166.,   1., 118.,  17.,  13., 126.,  99., 196.,\n",
              "       119., 143., 147.,  97., 145., 117.,  19., 158.,  88.,  92., 122.,\n",
              "       138.,  12.,   9., 111.,  18., 133.,  16., 171., 159., 146.,  71.,\n",
              "        15., 176.,  73., 187.,  84.,  44., 141., 114.,  95., 129.,  79.,\n",
              "        nan,  62., 131., 112., 113.,  74.,  83., 136.,   8., 123.,  81.,\n",
              "       134., 142., 144.,  93., 163., 151.,  96., 155.,  76., 124., 162.,\n",
              "       132., 173., 128., 154.,  57., 156., 153., 188., 152.,  14.,  87.,\n",
              "        75., 179., 194., 181., 135., 184., 177., 164.,  91., 165.,  86.,\n",
              "       193., 191., 161., 167.,  77., 182., 157., 178.,  61.,  98., 127.,\n",
              "        82.,  72., 172.,  94., 175., 195.,  68., 186., 198., 121.,  67.,\n",
              "       174., 199.,  56., 169., 149.,  65.])"
            ]
          },
          "metadata": {},
          "execution_count": 32
        }
      ]
    },
    {
      "cell_type": "code",
      "source": [
        "diabetic_3['Glucose'].median()"
      ],
      "metadata": {
        "colab": {
          "base_uri": "https://localhost:8080/"
        },
        "id": "Z63bg4oy0cTy",
        "outputId": "b8a65176-1f30-457e-f766-dccc9ec1494e"
      },
      "execution_count": 33,
      "outputs": [
        {
          "output_type": "execute_result",
          "data": {
            "text/plain": [
              "113.0"
            ]
          },
          "metadata": {},
          "execution_count": 33
        }
      ]
    },
    {
      "cell_type": "code",
      "source": [
        "diabetic_3['Glucose'].replace(np.nan, np.round(diabetic_3['BMI'].median()), inplace=True)"
      ],
      "metadata": {
        "id": "P0xj7PKY02lN"
      },
      "execution_count": 34,
      "outputs": []
    },
    {
      "cell_type": "code",
      "source": [
        "diabetic_3.isnull().sum().sort_values(ascending=False)"
      ],
      "metadata": {
        "colab": {
          "base_uri": "https://localhost:8080/"
        },
        "id": "4-Yw6gtK081W",
        "outputId": "cb254122-819a-4f56-f6cb-d40c68db6925"
      },
      "execution_count": 35,
      "outputs": [
        {
          "output_type": "execute_result",
          "data": {
            "text/plain": [
              "Glucose                     0\n",
              "BloodPressure               0\n",
              "SkinThickness               0\n",
              "Insulin                     0\n",
              "BMI                         0\n",
              "DiabetesPedigreeFunction    0\n",
              "Age                         0\n",
              "dtype: int64"
            ]
          },
          "metadata": {},
          "execution_count": 35
        }
      ]
    },
    {
      "cell_type": "code",
      "source": [
        "diabetic_4 = diabetic_3.copy()"
      ],
      "metadata": {
        "id": "-F_u5qwX1B7u"
      },
      "execution_count": 36,
      "outputs": []
    },
    {
      "cell_type": "code",
      "source": [
        "diabetic_4.head()"
      ],
      "metadata": {
        "colab": {
          "base_uri": "https://localhost:8080/",
          "height": 206
        },
        "id": "tCiExpi_1I2k",
        "outputId": "36444f55-70d4-4718-ce1c-8344cb8e8693"
      },
      "execution_count": 37,
      "outputs": [
        {
          "output_type": "execute_result",
          "data": {
            "text/plain": [
              "   Glucose  BloodPressure  SkinThickness  Insulin   BMI  \\\n",
              "0    148.0           72.0           35.0    106.0  33.6   \n",
              "1     85.0           66.0           29.0    106.0  26.6   \n",
              "2    183.0           64.0           26.0    106.0  23.3   \n",
              "3     89.0           66.0           23.0     94.0  28.1   \n",
              "4    137.0            4.0           35.0    168.0  43.1   \n",
              "\n",
              "   DiabetesPedigreeFunction  Age  \n",
              "0                     0.627    5  \n",
              "1                     0.351   31  \n",
              "2                     0.672   32  \n",
              "3                     0.167   21  \n",
              "4                     2.288   33  "
            ],
            "text/html": [
              "\n",
              "  <div id=\"df-e21da2d9-0903-4147-83ee-9e573ebe3ac5\">\n",
              "    <div class=\"colab-df-container\">\n",
              "      <div>\n",
              "<style scoped>\n",
              "    .dataframe tbody tr th:only-of-type {\n",
              "        vertical-align: middle;\n",
              "    }\n",
              "\n",
              "    .dataframe tbody tr th {\n",
              "        vertical-align: top;\n",
              "    }\n",
              "\n",
              "    .dataframe thead th {\n",
              "        text-align: right;\n",
              "    }\n",
              "</style>\n",
              "<table border=\"1\" class=\"dataframe\">\n",
              "  <thead>\n",
              "    <tr style=\"text-align: right;\">\n",
              "      <th></th>\n",
              "      <th>Glucose</th>\n",
              "      <th>BloodPressure</th>\n",
              "      <th>SkinThickness</th>\n",
              "      <th>Insulin</th>\n",
              "      <th>BMI</th>\n",
              "      <th>DiabetesPedigreeFunction</th>\n",
              "      <th>Age</th>\n",
              "    </tr>\n",
              "  </thead>\n",
              "  <tbody>\n",
              "    <tr>\n",
              "      <th>0</th>\n",
              "      <td>148.0</td>\n",
              "      <td>72.0</td>\n",
              "      <td>35.0</td>\n",
              "      <td>106.0</td>\n",
              "      <td>33.6</td>\n",
              "      <td>0.627</td>\n",
              "      <td>5</td>\n",
              "    </tr>\n",
              "    <tr>\n",
              "      <th>1</th>\n",
              "      <td>85.0</td>\n",
              "      <td>66.0</td>\n",
              "      <td>29.0</td>\n",
              "      <td>106.0</td>\n",
              "      <td>26.6</td>\n",
              "      <td>0.351</td>\n",
              "      <td>31</td>\n",
              "    </tr>\n",
              "    <tr>\n",
              "      <th>2</th>\n",
              "      <td>183.0</td>\n",
              "      <td>64.0</td>\n",
              "      <td>26.0</td>\n",
              "      <td>106.0</td>\n",
              "      <td>23.3</td>\n",
              "      <td>0.672</td>\n",
              "      <td>32</td>\n",
              "    </tr>\n",
              "    <tr>\n",
              "      <th>3</th>\n",
              "      <td>89.0</td>\n",
              "      <td>66.0</td>\n",
              "      <td>23.0</td>\n",
              "      <td>94.0</td>\n",
              "      <td>28.1</td>\n",
              "      <td>0.167</td>\n",
              "      <td>21</td>\n",
              "    </tr>\n",
              "    <tr>\n",
              "      <th>4</th>\n",
              "      <td>137.0</td>\n",
              "      <td>4.0</td>\n",
              "      <td>35.0</td>\n",
              "      <td>168.0</td>\n",
              "      <td>43.1</td>\n",
              "      <td>2.288</td>\n",
              "      <td>33</td>\n",
              "    </tr>\n",
              "  </tbody>\n",
              "</table>\n",
              "</div>\n",
              "      <button class=\"colab-df-convert\" onclick=\"convertToInteractive('df-e21da2d9-0903-4147-83ee-9e573ebe3ac5')\"\n",
              "              title=\"Convert this dataframe to an interactive table.\"\n",
              "              style=\"display:none;\">\n",
              "        \n",
              "  <svg xmlns=\"http://www.w3.org/2000/svg\" height=\"24px\"viewBox=\"0 0 24 24\"\n",
              "       width=\"24px\">\n",
              "    <path d=\"M0 0h24v24H0V0z\" fill=\"none\"/>\n",
              "    <path d=\"M18.56 5.44l.94 2.06.94-2.06 2.06-.94-2.06-.94-.94-2.06-.94 2.06-2.06.94zm-11 1L8.5 8.5l.94-2.06 2.06-.94-2.06-.94L8.5 2.5l-.94 2.06-2.06.94zm10 10l.94 2.06.94-2.06 2.06-.94-2.06-.94-.94-2.06-.94 2.06-2.06.94z\"/><path d=\"M17.41 7.96l-1.37-1.37c-.4-.4-.92-.59-1.43-.59-.52 0-1.04.2-1.43.59L10.3 9.45l-7.72 7.72c-.78.78-.78 2.05 0 2.83L4 21.41c.39.39.9.59 1.41.59.51 0 1.02-.2 1.41-.59l7.78-7.78 2.81-2.81c.8-.78.8-2.07 0-2.86zM5.41 20L4 18.59l7.72-7.72 1.47 1.35L5.41 20z\"/>\n",
              "  </svg>\n",
              "      </button>\n",
              "      \n",
              "  <style>\n",
              "    .colab-df-container {\n",
              "      display:flex;\n",
              "      flex-wrap:wrap;\n",
              "      gap: 12px;\n",
              "    }\n",
              "\n",
              "    .colab-df-convert {\n",
              "      background-color: #E8F0FE;\n",
              "      border: none;\n",
              "      border-radius: 50%;\n",
              "      cursor: pointer;\n",
              "      display: none;\n",
              "      fill: #1967D2;\n",
              "      height: 32px;\n",
              "      padding: 0 0 0 0;\n",
              "      width: 32px;\n",
              "    }\n",
              "\n",
              "    .colab-df-convert:hover {\n",
              "      background-color: #E2EBFA;\n",
              "      box-shadow: 0px 1px 2px rgba(60, 64, 67, 0.3), 0px 1px 3px 1px rgba(60, 64, 67, 0.15);\n",
              "      fill: #174EA6;\n",
              "    }\n",
              "\n",
              "    [theme=dark] .colab-df-convert {\n",
              "      background-color: #3B4455;\n",
              "      fill: #D2E3FC;\n",
              "    }\n",
              "\n",
              "    [theme=dark] .colab-df-convert:hover {\n",
              "      background-color: #434B5C;\n",
              "      box-shadow: 0px 1px 3px 1px rgba(0, 0, 0, 0.15);\n",
              "      filter: drop-shadow(0px 1px 2px rgba(0, 0, 0, 0.3));\n",
              "      fill: #FFFFFF;\n",
              "    }\n",
              "  </style>\n",
              "\n",
              "      <script>\n",
              "        const buttonEl =\n",
              "          document.querySelector('#df-e21da2d9-0903-4147-83ee-9e573ebe3ac5 button.colab-df-convert');\n",
              "        buttonEl.style.display =\n",
              "          google.colab.kernel.accessAllowed ? 'block' : 'none';\n",
              "\n",
              "        async function convertToInteractive(key) {\n",
              "          const element = document.querySelector('#df-e21da2d9-0903-4147-83ee-9e573ebe3ac5');\n",
              "          const dataTable =\n",
              "            await google.colab.kernel.invokeFunction('convertToInteractive',\n",
              "                                                     [key], {});\n",
              "          if (!dataTable) return;\n",
              "\n",
              "          const docLinkHtml = 'Like what you see? Visit the ' +\n",
              "            '<a target=\"_blank\" href=https://colab.research.google.com/notebooks/data_table.ipynb>data table notebook</a>'\n",
              "            + ' to learn more about interactive tables.';\n",
              "          element.innerHTML = '';\n",
              "          dataTable['output_type'] = 'display_data';\n",
              "          await google.colab.output.renderOutput(dataTable, element);\n",
              "          const docLink = document.createElement('div');\n",
              "          docLink.innerHTML = docLinkHtml;\n",
              "          element.appendChild(docLink);\n",
              "        }\n",
              "      </script>\n",
              "    </div>\n",
              "  </div>\n",
              "  "
            ]
          },
          "metadata": {},
          "execution_count": 37
        }
      ]
    },
    {
      "cell_type": "code",
      "source": [
        "diabetic_4.describe()"
      ],
      "metadata": {
        "colab": {
          "base_uri": "https://localhost:8080/",
          "height": 300
        },
        "id": "izaNkPkw1L20",
        "outputId": "7c380921-e4a8-4231-edab-9918e77ccee4"
      },
      "execution_count": 38,
      "outputs": [
        {
          "output_type": "execute_result",
          "data": {
            "text/plain": [
              "          Glucose  BloodPressure  SkinThickness     Insulin         BMI  \\\n",
              "count  768.000000     768.000000     768.000000  768.000000  768.000000   \n",
              "mean    98.872396      55.720052      25.912760  105.825521   29.896224   \n",
              "std     55.201864      29.189236      10.881078   83.651685   10.612180   \n",
              "min      1.000000       1.000000       1.000000    1.000000    2.000000   \n",
              "25%     71.000000      45.500000      22.000000   66.750000   25.575000   \n",
              "50%    113.000000      66.000000      26.000000  106.000000   32.000000   \n",
              "75%    138.000000      76.000000      32.000000  106.000000   35.925000   \n",
              "max    199.000000     122.000000      99.000000  846.000000   67.100000   \n",
              "\n",
              "       DiabetesPedigreeFunction         Age  \n",
              "count                768.000000  768.000000  \n",
              "mean                   0.490439   30.990885  \n",
              "std                    0.346050   13.281475  \n",
              "min                    0.100000    3.000000  \n",
              "25%                    0.253750   23.000000  \n",
              "50%                    0.382500   28.000000  \n",
              "75%                    0.647500   38.250000  \n",
              "max                    2.420000   81.000000  "
            ],
            "text/html": [
              "\n",
              "  <div id=\"df-f104a71f-5b82-4e51-b875-841527587da1\">\n",
              "    <div class=\"colab-df-container\">\n",
              "      <div>\n",
              "<style scoped>\n",
              "    .dataframe tbody tr th:only-of-type {\n",
              "        vertical-align: middle;\n",
              "    }\n",
              "\n",
              "    .dataframe tbody tr th {\n",
              "        vertical-align: top;\n",
              "    }\n",
              "\n",
              "    .dataframe thead th {\n",
              "        text-align: right;\n",
              "    }\n",
              "</style>\n",
              "<table border=\"1\" class=\"dataframe\">\n",
              "  <thead>\n",
              "    <tr style=\"text-align: right;\">\n",
              "      <th></th>\n",
              "      <th>Glucose</th>\n",
              "      <th>BloodPressure</th>\n",
              "      <th>SkinThickness</th>\n",
              "      <th>Insulin</th>\n",
              "      <th>BMI</th>\n",
              "      <th>DiabetesPedigreeFunction</th>\n",
              "      <th>Age</th>\n",
              "    </tr>\n",
              "  </thead>\n",
              "  <tbody>\n",
              "    <tr>\n",
              "      <th>count</th>\n",
              "      <td>768.000000</td>\n",
              "      <td>768.000000</td>\n",
              "      <td>768.000000</td>\n",
              "      <td>768.000000</td>\n",
              "      <td>768.000000</td>\n",
              "      <td>768.000000</td>\n",
              "      <td>768.000000</td>\n",
              "    </tr>\n",
              "    <tr>\n",
              "      <th>mean</th>\n",
              "      <td>98.872396</td>\n",
              "      <td>55.720052</td>\n",
              "      <td>25.912760</td>\n",
              "      <td>105.825521</td>\n",
              "      <td>29.896224</td>\n",
              "      <td>0.490439</td>\n",
              "      <td>30.990885</td>\n",
              "    </tr>\n",
              "    <tr>\n",
              "      <th>std</th>\n",
              "      <td>55.201864</td>\n",
              "      <td>29.189236</td>\n",
              "      <td>10.881078</td>\n",
              "      <td>83.651685</td>\n",
              "      <td>10.612180</td>\n",
              "      <td>0.346050</td>\n",
              "      <td>13.281475</td>\n",
              "    </tr>\n",
              "    <tr>\n",
              "      <th>min</th>\n",
              "      <td>1.000000</td>\n",
              "      <td>1.000000</td>\n",
              "      <td>1.000000</td>\n",
              "      <td>1.000000</td>\n",
              "      <td>2.000000</td>\n",
              "      <td>0.100000</td>\n",
              "      <td>3.000000</td>\n",
              "    </tr>\n",
              "    <tr>\n",
              "      <th>25%</th>\n",
              "      <td>71.000000</td>\n",
              "      <td>45.500000</td>\n",
              "      <td>22.000000</td>\n",
              "      <td>66.750000</td>\n",
              "      <td>25.575000</td>\n",
              "      <td>0.253750</td>\n",
              "      <td>23.000000</td>\n",
              "    </tr>\n",
              "    <tr>\n",
              "      <th>50%</th>\n",
              "      <td>113.000000</td>\n",
              "      <td>66.000000</td>\n",
              "      <td>26.000000</td>\n",
              "      <td>106.000000</td>\n",
              "      <td>32.000000</td>\n",
              "      <td>0.382500</td>\n",
              "      <td>28.000000</td>\n",
              "    </tr>\n",
              "    <tr>\n",
              "      <th>75%</th>\n",
              "      <td>138.000000</td>\n",
              "      <td>76.000000</td>\n",
              "      <td>32.000000</td>\n",
              "      <td>106.000000</td>\n",
              "      <td>35.925000</td>\n",
              "      <td>0.647500</td>\n",
              "      <td>38.250000</td>\n",
              "    </tr>\n",
              "    <tr>\n",
              "      <th>max</th>\n",
              "      <td>199.000000</td>\n",
              "      <td>122.000000</td>\n",
              "      <td>99.000000</td>\n",
              "      <td>846.000000</td>\n",
              "      <td>67.100000</td>\n",
              "      <td>2.420000</td>\n",
              "      <td>81.000000</td>\n",
              "    </tr>\n",
              "  </tbody>\n",
              "</table>\n",
              "</div>\n",
              "      <button class=\"colab-df-convert\" onclick=\"convertToInteractive('df-f104a71f-5b82-4e51-b875-841527587da1')\"\n",
              "              title=\"Convert this dataframe to an interactive table.\"\n",
              "              style=\"display:none;\">\n",
              "        \n",
              "  <svg xmlns=\"http://www.w3.org/2000/svg\" height=\"24px\"viewBox=\"0 0 24 24\"\n",
              "       width=\"24px\">\n",
              "    <path d=\"M0 0h24v24H0V0z\" fill=\"none\"/>\n",
              "    <path d=\"M18.56 5.44l.94 2.06.94-2.06 2.06-.94-2.06-.94-.94-2.06-.94 2.06-2.06.94zm-11 1L8.5 8.5l.94-2.06 2.06-.94-2.06-.94L8.5 2.5l-.94 2.06-2.06.94zm10 10l.94 2.06.94-2.06 2.06-.94-2.06-.94-.94-2.06-.94 2.06-2.06.94z\"/><path d=\"M17.41 7.96l-1.37-1.37c-.4-.4-.92-.59-1.43-.59-.52 0-1.04.2-1.43.59L10.3 9.45l-7.72 7.72c-.78.78-.78 2.05 0 2.83L4 21.41c.39.39.9.59 1.41.59.51 0 1.02-.2 1.41-.59l7.78-7.78 2.81-2.81c.8-.78.8-2.07 0-2.86zM5.41 20L4 18.59l7.72-7.72 1.47 1.35L5.41 20z\"/>\n",
              "  </svg>\n",
              "      </button>\n",
              "      \n",
              "  <style>\n",
              "    .colab-df-container {\n",
              "      display:flex;\n",
              "      flex-wrap:wrap;\n",
              "      gap: 12px;\n",
              "    }\n",
              "\n",
              "    .colab-df-convert {\n",
              "      background-color: #E8F0FE;\n",
              "      border: none;\n",
              "      border-radius: 50%;\n",
              "      cursor: pointer;\n",
              "      display: none;\n",
              "      fill: #1967D2;\n",
              "      height: 32px;\n",
              "      padding: 0 0 0 0;\n",
              "      width: 32px;\n",
              "    }\n",
              "\n",
              "    .colab-df-convert:hover {\n",
              "      background-color: #E2EBFA;\n",
              "      box-shadow: 0px 1px 2px rgba(60, 64, 67, 0.3), 0px 1px 3px 1px rgba(60, 64, 67, 0.15);\n",
              "      fill: #174EA6;\n",
              "    }\n",
              "\n",
              "    [theme=dark] .colab-df-convert {\n",
              "      background-color: #3B4455;\n",
              "      fill: #D2E3FC;\n",
              "    }\n",
              "\n",
              "    [theme=dark] .colab-df-convert:hover {\n",
              "      background-color: #434B5C;\n",
              "      box-shadow: 0px 1px 3px 1px rgba(0, 0, 0, 0.15);\n",
              "      filter: drop-shadow(0px 1px 2px rgba(0, 0, 0, 0.3));\n",
              "      fill: #FFFFFF;\n",
              "    }\n",
              "  </style>\n",
              "\n",
              "      <script>\n",
              "        const buttonEl =\n",
              "          document.querySelector('#df-f104a71f-5b82-4e51-b875-841527587da1 button.colab-df-convert');\n",
              "        buttonEl.style.display =\n",
              "          google.colab.kernel.accessAllowed ? 'block' : 'none';\n",
              "\n",
              "        async function convertToInteractive(key) {\n",
              "          const element = document.querySelector('#df-f104a71f-5b82-4e51-b875-841527587da1');\n",
              "          const dataTable =\n",
              "            await google.colab.kernel.invokeFunction('convertToInteractive',\n",
              "                                                     [key], {});\n",
              "          if (!dataTable) return;\n",
              "\n",
              "          const docLinkHtml = 'Like what you see? Visit the ' +\n",
              "            '<a target=\"_blank\" href=https://colab.research.google.com/notebooks/data_table.ipynb>data table notebook</a>'\n",
              "            + ' to learn more about interactive tables.';\n",
              "          element.innerHTML = '';\n",
              "          dataTable['output_type'] = 'display_data';\n",
              "          await google.colab.output.renderOutput(dataTable, element);\n",
              "          const docLink = document.createElement('div');\n",
              "          docLink.innerHTML = docLinkHtml;\n",
              "          element.appendChild(docLink);\n",
              "        }\n",
              "      </script>\n",
              "    </div>\n",
              "  </div>\n",
              "  "
            ]
          },
          "metadata": {},
          "execution_count": 38
        }
      ]
    },
    {
      "cell_type": "markdown",
      "source": [
        "Again Add the removed column ' Pregnancies and Outcome' to diabetic_4 from diabetci_1"
      ],
      "metadata": {
        "id": "ioCI5U-K5wzi"
      }
    },
    {
      "cell_type": "code",
      "source": [
        "diabetic_1['Outcome'].value_counts()"
      ],
      "metadata": {
        "colab": {
          "base_uri": "https://localhost:8080/"
        },
        "id": "3AWbTc521SQy",
        "outputId": "7f2115c2-2044-40cd-e5cb-673314fad3fb"
      },
      "execution_count": 39,
      "outputs": [
        {
          "output_type": "execute_result",
          "data": {
            "text/plain": [
              "0    500\n",
              "1    268\n",
              "Name: Outcome, dtype: int64"
            ]
          },
          "metadata": {},
          "execution_count": 39
        }
      ]
    },
    {
      "cell_type": "code",
      "source": [
        "diabetic_4['Pregnancies']= diabetic_1.Pregnancies"
      ],
      "metadata": {
        "id": "rCLRj8qH1xQb"
      },
      "execution_count": 40,
      "outputs": []
    },
    {
      "cell_type": "code",
      "source": [
        "diabetic_4.info()"
      ],
      "metadata": {
        "colab": {
          "base_uri": "https://localhost:8080/"
        },
        "id": "GDb5toGM5bqP",
        "outputId": "a93f78ea-7ad8-4a37-92bd-c3bba99fee33"
      },
      "execution_count": 41,
      "outputs": [
        {
          "output_type": "stream",
          "name": "stdout",
          "text": [
            "<class 'pandas.core.frame.DataFrame'>\n",
            "RangeIndex: 768 entries, 0 to 767\n",
            "Data columns (total 8 columns):\n",
            " #   Column                    Non-Null Count  Dtype  \n",
            "---  ------                    --------------  -----  \n",
            " 0   Glucose                   768 non-null    float64\n",
            " 1   BloodPressure             768 non-null    float64\n",
            " 2   SkinThickness             768 non-null    float64\n",
            " 3   Insulin                   768 non-null    float64\n",
            " 4   BMI                       768 non-null    float64\n",
            " 5   DiabetesPedigreeFunction  768 non-null    float64\n",
            " 6   Age                       768 non-null    int64  \n",
            " 7   Pregnancies               768 non-null    int64  \n",
            "dtypes: float64(6), int64(2)\n",
            "memory usage: 48.1 KB\n"
          ]
        }
      ]
    },
    {
      "cell_type": "code",
      "source": [
        "diabetic_4['Outcome']= diabetic_1.Outcome"
      ],
      "metadata": {
        "id": "KdhR-P3-5fqS"
      },
      "execution_count": 42,
      "outputs": []
    },
    {
      "cell_type": "code",
      "source": [
        "diabetic_4.info()"
      ],
      "metadata": {
        "colab": {
          "base_uri": "https://localhost:8080/"
        },
        "id": "0JynZPSp5oSI",
        "outputId": "e2c72b28-8ef9-4ef4-ccbd-3eb82d9e1ab7"
      },
      "execution_count": 43,
      "outputs": [
        {
          "output_type": "stream",
          "name": "stdout",
          "text": [
            "<class 'pandas.core.frame.DataFrame'>\n",
            "RangeIndex: 768 entries, 0 to 767\n",
            "Data columns (total 9 columns):\n",
            " #   Column                    Non-Null Count  Dtype  \n",
            "---  ------                    --------------  -----  \n",
            " 0   Glucose                   768 non-null    float64\n",
            " 1   BloodPressure             768 non-null    float64\n",
            " 2   SkinThickness             768 non-null    float64\n",
            " 3   Insulin                   768 non-null    float64\n",
            " 4   BMI                       768 non-null    float64\n",
            " 5   DiabetesPedigreeFunction  768 non-null    float64\n",
            " 6   Age                       768 non-null    int64  \n",
            " 7   Pregnancies               768 non-null    int64  \n",
            " 8   Outcome                   768 non-null    int64  \n",
            "dtypes: float64(6), int64(3)\n",
            "memory usage: 54.1 KB\n"
          ]
        }
      ]
    },
    {
      "cell_type": "code",
      "source": [],
      "metadata": {
        "id": "xi3_SOVS5qz7"
      },
      "execution_count": 43,
      "outputs": []
    },
    {
      "cell_type": "markdown",
      "source": [
        "### Check the target column is Balanced or Unbalanced\n",
        "\n"
      ],
      "metadata": {
        "id": "RHqUJ-uU6J9w"
      }
    },
    {
      "cell_type": "code",
      "source": [
        "diabetic_4['Outcome'].value_counts()"
      ],
      "metadata": {
        "colab": {
          "base_uri": "https://localhost:8080/"
        },
        "id": "mgMQRZOz6PYI",
        "outputId": "074bb95e-6692-4575-9df6-72bdaf23ab8b"
      },
      "execution_count": 44,
      "outputs": [
        {
          "output_type": "execute_result",
          "data": {
            "text/plain": [
              "0    500\n",
              "1    268\n",
              "Name: Outcome, dtype: int64"
            ]
          },
          "metadata": {},
          "execution_count": 44
        }
      ]
    },
    {
      "cell_type": "code",
      "source": [],
      "metadata": {
        "id": "XdGBZVnA6ZW4"
      },
      "execution_count": 44,
      "outputs": []
    },
    {
      "cell_type": "markdown",
      "source": [
        "####Now the Target column is unbalanced so, to balance this target column, use the technique called \"resampling\", Before resampling ,divide the target feature accroding to classes"
      ],
      "metadata": {
        "id": "OYkvjo-96e2I"
      }
    },
    {
      "cell_type": "code",
      "source": [
        "from sklearn.utils import resample\n",
        "df_0 = diabetic_4[diabetic_4['Outcome']==0]\n",
        "df_1 = diabetic_4[diabetic_4['Outcome']==1]"
      ],
      "metadata": {
        "id": "HaiSpV_362aH"
      },
      "execution_count": 45,
      "outputs": []
    },
    {
      "cell_type": "code",
      "source": [
        "df_0"
      ],
      "metadata": {
        "colab": {
          "base_uri": "https://localhost:8080/",
          "height": 424
        },
        "id": "86iTv2Uk7X7B",
        "outputId": "a520ecb5-f79c-47bd-b46e-e7d889c94566"
      },
      "execution_count": 46,
      "outputs": [
        {
          "output_type": "execute_result",
          "data": {
            "text/plain": [
              "     Glucose  BloodPressure  SkinThickness  Insulin   BMI  \\\n",
              "1       85.0           66.0           29.0    106.0  26.6   \n",
              "3       89.0           66.0           23.0     94.0  28.1   \n",
              "5      116.0           74.0           26.0    106.0  25.6   \n",
              "7      115.0           56.0           26.0    106.0  35.3   \n",
              "10      11.0           92.0           26.0    106.0  37.6   \n",
              "..       ...            ...            ...      ...   ...   \n",
              "762     89.0           62.0           26.0    106.0  22.5   \n",
              "763     11.0           76.0           48.0     18.0  32.9   \n",
              "764    122.0            7.0           27.0    106.0  36.8   \n",
              "765    121.0           72.0           23.0    112.0  26.2   \n",
              "767     93.0            7.0           31.0    106.0   3.4   \n",
              "\n",
              "     DiabetesPedigreeFunction  Age  Pregnancies  Outcome  \n",
              "1                       0.351   31            1        0  \n",
              "3                       0.167   21            1        0  \n",
              "5                       0.210    3            5        0  \n",
              "7                       0.134   29           10        0  \n",
              "10                      0.191    3            4        0  \n",
              "..                        ...  ...          ...      ...  \n",
              "762                     0.142   33            9        0  \n",
              "763                     0.171   63           10        0  \n",
              "764                     0.340   27            2        0  \n",
              "765                     0.245    3            5        0  \n",
              "767                     0.315   23            1        0  \n",
              "\n",
              "[500 rows x 9 columns]"
            ],
            "text/html": [
              "\n",
              "  <div id=\"df-8146ac69-bba6-4daa-a2e4-631f982ccda8\">\n",
              "    <div class=\"colab-df-container\">\n",
              "      <div>\n",
              "<style scoped>\n",
              "    .dataframe tbody tr th:only-of-type {\n",
              "        vertical-align: middle;\n",
              "    }\n",
              "\n",
              "    .dataframe tbody tr th {\n",
              "        vertical-align: top;\n",
              "    }\n",
              "\n",
              "    .dataframe thead th {\n",
              "        text-align: right;\n",
              "    }\n",
              "</style>\n",
              "<table border=\"1\" class=\"dataframe\">\n",
              "  <thead>\n",
              "    <tr style=\"text-align: right;\">\n",
              "      <th></th>\n",
              "      <th>Glucose</th>\n",
              "      <th>BloodPressure</th>\n",
              "      <th>SkinThickness</th>\n",
              "      <th>Insulin</th>\n",
              "      <th>BMI</th>\n",
              "      <th>DiabetesPedigreeFunction</th>\n",
              "      <th>Age</th>\n",
              "      <th>Pregnancies</th>\n",
              "      <th>Outcome</th>\n",
              "    </tr>\n",
              "  </thead>\n",
              "  <tbody>\n",
              "    <tr>\n",
              "      <th>1</th>\n",
              "      <td>85.0</td>\n",
              "      <td>66.0</td>\n",
              "      <td>29.0</td>\n",
              "      <td>106.0</td>\n",
              "      <td>26.6</td>\n",
              "      <td>0.351</td>\n",
              "      <td>31</td>\n",
              "      <td>1</td>\n",
              "      <td>0</td>\n",
              "    </tr>\n",
              "    <tr>\n",
              "      <th>3</th>\n",
              "      <td>89.0</td>\n",
              "      <td>66.0</td>\n",
              "      <td>23.0</td>\n",
              "      <td>94.0</td>\n",
              "      <td>28.1</td>\n",
              "      <td>0.167</td>\n",
              "      <td>21</td>\n",
              "      <td>1</td>\n",
              "      <td>0</td>\n",
              "    </tr>\n",
              "    <tr>\n",
              "      <th>5</th>\n",
              "      <td>116.0</td>\n",
              "      <td>74.0</td>\n",
              "      <td>26.0</td>\n",
              "      <td>106.0</td>\n",
              "      <td>25.6</td>\n",
              "      <td>0.210</td>\n",
              "      <td>3</td>\n",
              "      <td>5</td>\n",
              "      <td>0</td>\n",
              "    </tr>\n",
              "    <tr>\n",
              "      <th>7</th>\n",
              "      <td>115.0</td>\n",
              "      <td>56.0</td>\n",
              "      <td>26.0</td>\n",
              "      <td>106.0</td>\n",
              "      <td>35.3</td>\n",
              "      <td>0.134</td>\n",
              "      <td>29</td>\n",
              "      <td>10</td>\n",
              "      <td>0</td>\n",
              "    </tr>\n",
              "    <tr>\n",
              "      <th>10</th>\n",
              "      <td>11.0</td>\n",
              "      <td>92.0</td>\n",
              "      <td>26.0</td>\n",
              "      <td>106.0</td>\n",
              "      <td>37.6</td>\n",
              "      <td>0.191</td>\n",
              "      <td>3</td>\n",
              "      <td>4</td>\n",
              "      <td>0</td>\n",
              "    </tr>\n",
              "    <tr>\n",
              "      <th>...</th>\n",
              "      <td>...</td>\n",
              "      <td>...</td>\n",
              "      <td>...</td>\n",
              "      <td>...</td>\n",
              "      <td>...</td>\n",
              "      <td>...</td>\n",
              "      <td>...</td>\n",
              "      <td>...</td>\n",
              "      <td>...</td>\n",
              "    </tr>\n",
              "    <tr>\n",
              "      <th>762</th>\n",
              "      <td>89.0</td>\n",
              "      <td>62.0</td>\n",
              "      <td>26.0</td>\n",
              "      <td>106.0</td>\n",
              "      <td>22.5</td>\n",
              "      <td>0.142</td>\n",
              "      <td>33</td>\n",
              "      <td>9</td>\n",
              "      <td>0</td>\n",
              "    </tr>\n",
              "    <tr>\n",
              "      <th>763</th>\n",
              "      <td>11.0</td>\n",
              "      <td>76.0</td>\n",
              "      <td>48.0</td>\n",
              "      <td>18.0</td>\n",
              "      <td>32.9</td>\n",
              "      <td>0.171</td>\n",
              "      <td>63</td>\n",
              "      <td>10</td>\n",
              "      <td>0</td>\n",
              "    </tr>\n",
              "    <tr>\n",
              "      <th>764</th>\n",
              "      <td>122.0</td>\n",
              "      <td>7.0</td>\n",
              "      <td>27.0</td>\n",
              "      <td>106.0</td>\n",
              "      <td>36.8</td>\n",
              "      <td>0.340</td>\n",
              "      <td>27</td>\n",
              "      <td>2</td>\n",
              "      <td>0</td>\n",
              "    </tr>\n",
              "    <tr>\n",
              "      <th>765</th>\n",
              "      <td>121.0</td>\n",
              "      <td>72.0</td>\n",
              "      <td>23.0</td>\n",
              "      <td>112.0</td>\n",
              "      <td>26.2</td>\n",
              "      <td>0.245</td>\n",
              "      <td>3</td>\n",
              "      <td>5</td>\n",
              "      <td>0</td>\n",
              "    </tr>\n",
              "    <tr>\n",
              "      <th>767</th>\n",
              "      <td>93.0</td>\n",
              "      <td>7.0</td>\n",
              "      <td>31.0</td>\n",
              "      <td>106.0</td>\n",
              "      <td>3.4</td>\n",
              "      <td>0.315</td>\n",
              "      <td>23</td>\n",
              "      <td>1</td>\n",
              "      <td>0</td>\n",
              "    </tr>\n",
              "  </tbody>\n",
              "</table>\n",
              "<p>500 rows × 9 columns</p>\n",
              "</div>\n",
              "      <button class=\"colab-df-convert\" onclick=\"convertToInteractive('df-8146ac69-bba6-4daa-a2e4-631f982ccda8')\"\n",
              "              title=\"Convert this dataframe to an interactive table.\"\n",
              "              style=\"display:none;\">\n",
              "        \n",
              "  <svg xmlns=\"http://www.w3.org/2000/svg\" height=\"24px\"viewBox=\"0 0 24 24\"\n",
              "       width=\"24px\">\n",
              "    <path d=\"M0 0h24v24H0V0z\" fill=\"none\"/>\n",
              "    <path d=\"M18.56 5.44l.94 2.06.94-2.06 2.06-.94-2.06-.94-.94-2.06-.94 2.06-2.06.94zm-11 1L8.5 8.5l.94-2.06 2.06-.94-2.06-.94L8.5 2.5l-.94 2.06-2.06.94zm10 10l.94 2.06.94-2.06 2.06-.94-2.06-.94-.94-2.06-.94 2.06-2.06.94z\"/><path d=\"M17.41 7.96l-1.37-1.37c-.4-.4-.92-.59-1.43-.59-.52 0-1.04.2-1.43.59L10.3 9.45l-7.72 7.72c-.78.78-.78 2.05 0 2.83L4 21.41c.39.39.9.59 1.41.59.51 0 1.02-.2 1.41-.59l7.78-7.78 2.81-2.81c.8-.78.8-2.07 0-2.86zM5.41 20L4 18.59l7.72-7.72 1.47 1.35L5.41 20z\"/>\n",
              "  </svg>\n",
              "      </button>\n",
              "      \n",
              "  <style>\n",
              "    .colab-df-container {\n",
              "      display:flex;\n",
              "      flex-wrap:wrap;\n",
              "      gap: 12px;\n",
              "    }\n",
              "\n",
              "    .colab-df-convert {\n",
              "      background-color: #E8F0FE;\n",
              "      border: none;\n",
              "      border-radius: 50%;\n",
              "      cursor: pointer;\n",
              "      display: none;\n",
              "      fill: #1967D2;\n",
              "      height: 32px;\n",
              "      padding: 0 0 0 0;\n",
              "      width: 32px;\n",
              "    }\n",
              "\n",
              "    .colab-df-convert:hover {\n",
              "      background-color: #E2EBFA;\n",
              "      box-shadow: 0px 1px 2px rgba(60, 64, 67, 0.3), 0px 1px 3px 1px rgba(60, 64, 67, 0.15);\n",
              "      fill: #174EA6;\n",
              "    }\n",
              "\n",
              "    [theme=dark] .colab-df-convert {\n",
              "      background-color: #3B4455;\n",
              "      fill: #D2E3FC;\n",
              "    }\n",
              "\n",
              "    [theme=dark] .colab-df-convert:hover {\n",
              "      background-color: #434B5C;\n",
              "      box-shadow: 0px 1px 3px 1px rgba(0, 0, 0, 0.15);\n",
              "      filter: drop-shadow(0px 1px 2px rgba(0, 0, 0, 0.3));\n",
              "      fill: #FFFFFF;\n",
              "    }\n",
              "  </style>\n",
              "\n",
              "      <script>\n",
              "        const buttonEl =\n",
              "          document.querySelector('#df-8146ac69-bba6-4daa-a2e4-631f982ccda8 button.colab-df-convert');\n",
              "        buttonEl.style.display =\n",
              "          google.colab.kernel.accessAllowed ? 'block' : 'none';\n",
              "\n",
              "        async function convertToInteractive(key) {\n",
              "          const element = document.querySelector('#df-8146ac69-bba6-4daa-a2e4-631f982ccda8');\n",
              "          const dataTable =\n",
              "            await google.colab.kernel.invokeFunction('convertToInteractive',\n",
              "                                                     [key], {});\n",
              "          if (!dataTable) return;\n",
              "\n",
              "          const docLinkHtml = 'Like what you see? Visit the ' +\n",
              "            '<a target=\"_blank\" href=https://colab.research.google.com/notebooks/data_table.ipynb>data table notebook</a>'\n",
              "            + ' to learn more about interactive tables.';\n",
              "          element.innerHTML = '';\n",
              "          dataTable['output_type'] = 'display_data';\n",
              "          await google.colab.output.renderOutput(dataTable, element);\n",
              "          const docLink = document.createElement('div');\n",
              "          docLink.innerHTML = docLinkHtml;\n",
              "          element.appendChild(docLink);\n",
              "        }\n",
              "      </script>\n",
              "    </div>\n",
              "  </div>\n",
              "  "
            ]
          },
          "metadata": {},
          "execution_count": 46
        }
      ]
    },
    {
      "cell_type": "code",
      "source": [
        "df_1"
      ],
      "metadata": {
        "colab": {
          "base_uri": "https://localhost:8080/",
          "height": 424
        },
        "id": "SwCUVXfk7g4M",
        "outputId": "005e6db4-c285-408a-ff47-0a43e94c4e9e"
      },
      "execution_count": 47,
      "outputs": [
        {
          "output_type": "execute_result",
          "data": {
            "text/plain": [
              "     Glucose  BloodPressure  SkinThickness  Insulin   BMI  \\\n",
              "0      148.0           72.0           35.0    106.0  33.6   \n",
              "2      183.0           64.0           26.0    106.0  23.3   \n",
              "4      137.0            4.0           35.0    168.0  43.1   \n",
              "6       78.0            5.0           32.0     88.0  31.0   \n",
              "8      197.0            7.0           45.0    543.0   3.5   \n",
              "..       ...            ...            ...      ...   ...   \n",
              "755    128.0           88.0           39.0     11.0  36.5   \n",
              "757    123.0           72.0           26.0    106.0  36.3   \n",
              "759     19.0           92.0           26.0    106.0  35.5   \n",
              "761     17.0           74.0           31.0    106.0  44.0   \n",
              "766    126.0            6.0           26.0    106.0   3.1   \n",
              "\n",
              "     DiabetesPedigreeFunction  Age  Pregnancies  Outcome  \n",
              "0                       0.627    5            6        1  \n",
              "2                       0.672   32            8        1  \n",
              "4                       2.288   33            0        1  \n",
              "6                       0.248   26            3        1  \n",
              "8                       0.158   53            2        1  \n",
              "..                        ...  ...          ...      ...  \n",
              "755                     1.570   37            1        1  \n",
              "757                     0.258   52            0        1  \n",
              "759                     0.278   66            6        1  \n",
              "761                     0.430   43            9        1  \n",
              "766                     0.349   47            1        1  \n",
              "\n",
              "[268 rows x 9 columns]"
            ],
            "text/html": [
              "\n",
              "  <div id=\"df-1ffb29cc-3997-44ee-aef0-ad2764c53b31\">\n",
              "    <div class=\"colab-df-container\">\n",
              "      <div>\n",
              "<style scoped>\n",
              "    .dataframe tbody tr th:only-of-type {\n",
              "        vertical-align: middle;\n",
              "    }\n",
              "\n",
              "    .dataframe tbody tr th {\n",
              "        vertical-align: top;\n",
              "    }\n",
              "\n",
              "    .dataframe thead th {\n",
              "        text-align: right;\n",
              "    }\n",
              "</style>\n",
              "<table border=\"1\" class=\"dataframe\">\n",
              "  <thead>\n",
              "    <tr style=\"text-align: right;\">\n",
              "      <th></th>\n",
              "      <th>Glucose</th>\n",
              "      <th>BloodPressure</th>\n",
              "      <th>SkinThickness</th>\n",
              "      <th>Insulin</th>\n",
              "      <th>BMI</th>\n",
              "      <th>DiabetesPedigreeFunction</th>\n",
              "      <th>Age</th>\n",
              "      <th>Pregnancies</th>\n",
              "      <th>Outcome</th>\n",
              "    </tr>\n",
              "  </thead>\n",
              "  <tbody>\n",
              "    <tr>\n",
              "      <th>0</th>\n",
              "      <td>148.0</td>\n",
              "      <td>72.0</td>\n",
              "      <td>35.0</td>\n",
              "      <td>106.0</td>\n",
              "      <td>33.6</td>\n",
              "      <td>0.627</td>\n",
              "      <td>5</td>\n",
              "      <td>6</td>\n",
              "      <td>1</td>\n",
              "    </tr>\n",
              "    <tr>\n",
              "      <th>2</th>\n",
              "      <td>183.0</td>\n",
              "      <td>64.0</td>\n",
              "      <td>26.0</td>\n",
              "      <td>106.0</td>\n",
              "      <td>23.3</td>\n",
              "      <td>0.672</td>\n",
              "      <td>32</td>\n",
              "      <td>8</td>\n",
              "      <td>1</td>\n",
              "    </tr>\n",
              "    <tr>\n",
              "      <th>4</th>\n",
              "      <td>137.0</td>\n",
              "      <td>4.0</td>\n",
              "      <td>35.0</td>\n",
              "      <td>168.0</td>\n",
              "      <td>43.1</td>\n",
              "      <td>2.288</td>\n",
              "      <td>33</td>\n",
              "      <td>0</td>\n",
              "      <td>1</td>\n",
              "    </tr>\n",
              "    <tr>\n",
              "      <th>6</th>\n",
              "      <td>78.0</td>\n",
              "      <td>5.0</td>\n",
              "      <td>32.0</td>\n",
              "      <td>88.0</td>\n",
              "      <td>31.0</td>\n",
              "      <td>0.248</td>\n",
              "      <td>26</td>\n",
              "      <td>3</td>\n",
              "      <td>1</td>\n",
              "    </tr>\n",
              "    <tr>\n",
              "      <th>8</th>\n",
              "      <td>197.0</td>\n",
              "      <td>7.0</td>\n",
              "      <td>45.0</td>\n",
              "      <td>543.0</td>\n",
              "      <td>3.5</td>\n",
              "      <td>0.158</td>\n",
              "      <td>53</td>\n",
              "      <td>2</td>\n",
              "      <td>1</td>\n",
              "    </tr>\n",
              "    <tr>\n",
              "      <th>...</th>\n",
              "      <td>...</td>\n",
              "      <td>...</td>\n",
              "      <td>...</td>\n",
              "      <td>...</td>\n",
              "      <td>...</td>\n",
              "      <td>...</td>\n",
              "      <td>...</td>\n",
              "      <td>...</td>\n",
              "      <td>...</td>\n",
              "    </tr>\n",
              "    <tr>\n",
              "      <th>755</th>\n",
              "      <td>128.0</td>\n",
              "      <td>88.0</td>\n",
              "      <td>39.0</td>\n",
              "      <td>11.0</td>\n",
              "      <td>36.5</td>\n",
              "      <td>1.570</td>\n",
              "      <td>37</td>\n",
              "      <td>1</td>\n",
              "      <td>1</td>\n",
              "    </tr>\n",
              "    <tr>\n",
              "      <th>757</th>\n",
              "      <td>123.0</td>\n",
              "      <td>72.0</td>\n",
              "      <td>26.0</td>\n",
              "      <td>106.0</td>\n",
              "      <td>36.3</td>\n",
              "      <td>0.258</td>\n",
              "      <td>52</td>\n",
              "      <td>0</td>\n",
              "      <td>1</td>\n",
              "    </tr>\n",
              "    <tr>\n",
              "      <th>759</th>\n",
              "      <td>19.0</td>\n",
              "      <td>92.0</td>\n",
              "      <td>26.0</td>\n",
              "      <td>106.0</td>\n",
              "      <td>35.5</td>\n",
              "      <td>0.278</td>\n",
              "      <td>66</td>\n",
              "      <td>6</td>\n",
              "      <td>1</td>\n",
              "    </tr>\n",
              "    <tr>\n",
              "      <th>761</th>\n",
              "      <td>17.0</td>\n",
              "      <td>74.0</td>\n",
              "      <td>31.0</td>\n",
              "      <td>106.0</td>\n",
              "      <td>44.0</td>\n",
              "      <td>0.430</td>\n",
              "      <td>43</td>\n",
              "      <td>9</td>\n",
              "      <td>1</td>\n",
              "    </tr>\n",
              "    <tr>\n",
              "      <th>766</th>\n",
              "      <td>126.0</td>\n",
              "      <td>6.0</td>\n",
              "      <td>26.0</td>\n",
              "      <td>106.0</td>\n",
              "      <td>3.1</td>\n",
              "      <td>0.349</td>\n",
              "      <td>47</td>\n",
              "      <td>1</td>\n",
              "      <td>1</td>\n",
              "    </tr>\n",
              "  </tbody>\n",
              "</table>\n",
              "<p>268 rows × 9 columns</p>\n",
              "</div>\n",
              "      <button class=\"colab-df-convert\" onclick=\"convertToInteractive('df-1ffb29cc-3997-44ee-aef0-ad2764c53b31')\"\n",
              "              title=\"Convert this dataframe to an interactive table.\"\n",
              "              style=\"display:none;\">\n",
              "        \n",
              "  <svg xmlns=\"http://www.w3.org/2000/svg\" height=\"24px\"viewBox=\"0 0 24 24\"\n",
              "       width=\"24px\">\n",
              "    <path d=\"M0 0h24v24H0V0z\" fill=\"none\"/>\n",
              "    <path d=\"M18.56 5.44l.94 2.06.94-2.06 2.06-.94-2.06-.94-.94-2.06-.94 2.06-2.06.94zm-11 1L8.5 8.5l.94-2.06 2.06-.94-2.06-.94L8.5 2.5l-.94 2.06-2.06.94zm10 10l.94 2.06.94-2.06 2.06-.94-2.06-.94-.94-2.06-.94 2.06-2.06.94z\"/><path d=\"M17.41 7.96l-1.37-1.37c-.4-.4-.92-.59-1.43-.59-.52 0-1.04.2-1.43.59L10.3 9.45l-7.72 7.72c-.78.78-.78 2.05 0 2.83L4 21.41c.39.39.9.59 1.41.59.51 0 1.02-.2 1.41-.59l7.78-7.78 2.81-2.81c.8-.78.8-2.07 0-2.86zM5.41 20L4 18.59l7.72-7.72 1.47 1.35L5.41 20z\"/>\n",
              "  </svg>\n",
              "      </button>\n",
              "      \n",
              "  <style>\n",
              "    .colab-df-container {\n",
              "      display:flex;\n",
              "      flex-wrap:wrap;\n",
              "      gap: 12px;\n",
              "    }\n",
              "\n",
              "    .colab-df-convert {\n",
              "      background-color: #E8F0FE;\n",
              "      border: none;\n",
              "      border-radius: 50%;\n",
              "      cursor: pointer;\n",
              "      display: none;\n",
              "      fill: #1967D2;\n",
              "      height: 32px;\n",
              "      padding: 0 0 0 0;\n",
              "      width: 32px;\n",
              "    }\n",
              "\n",
              "    .colab-df-convert:hover {\n",
              "      background-color: #E2EBFA;\n",
              "      box-shadow: 0px 1px 2px rgba(60, 64, 67, 0.3), 0px 1px 3px 1px rgba(60, 64, 67, 0.15);\n",
              "      fill: #174EA6;\n",
              "    }\n",
              "\n",
              "    [theme=dark] .colab-df-convert {\n",
              "      background-color: #3B4455;\n",
              "      fill: #D2E3FC;\n",
              "    }\n",
              "\n",
              "    [theme=dark] .colab-df-convert:hover {\n",
              "      background-color: #434B5C;\n",
              "      box-shadow: 0px 1px 3px 1px rgba(0, 0, 0, 0.15);\n",
              "      filter: drop-shadow(0px 1px 2px rgba(0, 0, 0, 0.3));\n",
              "      fill: #FFFFFF;\n",
              "    }\n",
              "  </style>\n",
              "\n",
              "      <script>\n",
              "        const buttonEl =\n",
              "          document.querySelector('#df-1ffb29cc-3997-44ee-aef0-ad2764c53b31 button.colab-df-convert');\n",
              "        buttonEl.style.display =\n",
              "          google.colab.kernel.accessAllowed ? 'block' : 'none';\n",
              "\n",
              "        async function convertToInteractive(key) {\n",
              "          const element = document.querySelector('#df-1ffb29cc-3997-44ee-aef0-ad2764c53b31');\n",
              "          const dataTable =\n",
              "            await google.colab.kernel.invokeFunction('convertToInteractive',\n",
              "                                                     [key], {});\n",
              "          if (!dataTable) return;\n",
              "\n",
              "          const docLinkHtml = 'Like what you see? Visit the ' +\n",
              "            '<a target=\"_blank\" href=https://colab.research.google.com/notebooks/data_table.ipynb>data table notebook</a>'\n",
              "            + ' to learn more about interactive tables.';\n",
              "          element.innerHTML = '';\n",
              "          dataTable['output_type'] = 'display_data';\n",
              "          await google.colab.output.renderOutput(dataTable, element);\n",
              "          const docLink = document.createElement('div');\n",
              "          docLink.innerHTML = docLinkHtml;\n",
              "          element.appendChild(docLink);\n",
              "        }\n",
              "      </script>\n",
              "    </div>\n",
              "  </div>\n",
              "  "
            ]
          },
          "metadata": {},
          "execution_count": 47
        }
      ]
    },
    {
      "cell_type": "code",
      "source": [],
      "metadata": {
        "id": "AixQWork7mKH"
      },
      "execution_count": 47,
      "outputs": []
    },
    {
      "cell_type": "markdown",
      "source": [
        "#### Now class '0 has 500 rows\n",
        "#### CLass '1' has 268 rows, so need to upsample (regenerate class'1')  (500-268= 232 row) 232 rows for class '1'"
      ],
      "metadata": {
        "id": "Y69l1MDf7r10"
      }
    },
    {
      "cell_type": "code",
      "source": [
        "df_1_upsample = resample(df_1, n_samples =500, replace = True, random_state= 123)"
      ],
      "metadata": {
        "id": "VEi10w-28RsL"
      },
      "execution_count": 48,
      "outputs": []
    },
    {
      "cell_type": "markdown",
      "source": [
        "####Draw the 'correlation map'. It may be useful for feature selection  "
      ],
      "metadata": {
        "id": "C9K6zBSD9jHg"
      }
    },
    {
      "cell_type": "code",
      "source": [
        "plt.figure(figsize=(13,8))\n",
        "sns.heatmap(diabetic_4.corr(),annot=True, cmap='RdYlGn')"
      ],
      "metadata": {
        "colab": {
          "base_uri": "https://localhost:8080/",
          "height": 624
        },
        "id": "uFsyfEYz8sp0",
        "outputId": "ca1fc8ff-3f4b-47f6-e280-05d562b3fa6a"
      },
      "execution_count": 49,
      "outputs": [
        {
          "output_type": "execute_result",
          "data": {
            "text/plain": [
              "<matplotlib.axes._subplots.AxesSubplot at 0x7fe368a1bc50>"
            ]
          },
          "metadata": {},
          "execution_count": 49
        },
        {
          "output_type": "display_data",
          "data": {
            "text/plain": [
              "<Figure size 936x576 with 2 Axes>"
            ],
            "image/png": "[encoded data removed]"
          },
          "metadata": {
            "needs_background": "light"
          }
        }
      ]
    },
    {
      "cell_type": "markdown",
      "source": [
        "#### Since Bloodpressue is closure to zero, is not correlate much with target values"
      ],
      "metadata": {
        "id": "bvTnByRX93Mr"
      }
    },
    {
      "cell_type": "code",
      "source": [],
      "metadata": {
        "id": "y0OOGJas9ed7"
      },
      "execution_count": 49,
      "outputs": []
    },
    {
      "cell_type": "markdown",
      "source": [
        "### Data Preprocessing"
      ],
      "metadata": {
        "id": "3dpOcXqU-jRo"
      }
    },
    {
      "cell_type": "code",
      "source": [
        "x=diabetic_4.drop(['Outcome'], axis=1)"
      ],
      "metadata": {
        "id": "Mfo90Cvt-mY_"
      },
      "execution_count": 50,
      "outputs": []
    },
    {
      "cell_type": "code",
      "source": [
        "y=diabetic_4['Outcome']"
      ],
      "metadata": {
        "id": "jVFKXFEGBDM3"
      },
      "execution_count": 51,
      "outputs": []
    },
    {
      "cell_type": "code",
      "source": [
        "x.head()"
      ],
      "metadata": {
        "colab": {
          "base_uri": "https://localhost:8080/",
          "height": 206
        },
        "id": "HRIOnmOPBJdT",
        "outputId": "01b22b32-4d07-45de-a58e-afad95f16a23"
      },
      "execution_count": 52,
      "outputs": [
        {
          "output_type": "execute_result",
          "data": {
            "text/plain": [
              "   Glucose  BloodPressure  SkinThickness  Insulin   BMI  \\\n",
              "0    148.0           72.0           35.0    106.0  33.6   \n",
              "1     85.0           66.0           29.0    106.0  26.6   \n",
              "2    183.0           64.0           26.0    106.0  23.3   \n",
              "3     89.0           66.0           23.0     94.0  28.1   \n",
              "4    137.0            4.0           35.0    168.0  43.1   \n",
              "\n",
              "   DiabetesPedigreeFunction  Age  Pregnancies  \n",
              "0                     0.627    5            6  \n",
              "1                     0.351   31            1  \n",
              "2                     0.672   32            8  \n",
              "3                     0.167   21            1  \n",
              "4                     2.288   33            0  "
            ],
            "text/html": [
              "\n",
              "  <div id=\"df-54bd3981-5c4c-4e75-a714-fcb0cd8e8fe4\">\n",
              "    <div class=\"colab-df-container\">\n",
              "      <div>\n",
              "<style scoped>\n",
              "    .dataframe tbody tr th:only-of-type {\n",
              "        vertical-align: middle;\n",
              "    }\n",
              "\n",
              "    .dataframe tbody tr th {\n",
              "        vertical-align: top;\n",
              "    }\n",
              "\n",
              "    .dataframe thead th {\n",
              "        text-align: right;\n",
              "    }\n",
              "</style>\n",
              "<table border=\"1\" class=\"dataframe\">\n",
              "  <thead>\n",
              "    <tr style=\"text-align: right;\">\n",
              "      <th></th>\n",
              "      <th>Glucose</th>\n",
              "      <th>BloodPressure</th>\n",
              "      <th>SkinThickness</th>\n",
              "      <th>Insulin</th>\n",
              "      <th>BMI</th>\n",
              "      <th>DiabetesPedigreeFunction</th>\n",
              "      <th>Age</th>\n",
              "      <th>Pregnancies</th>\n",
              "    </tr>\n",
              "  </thead>\n",
              "  <tbody>\n",
              "    <tr>\n",
              "      <th>0</th>\n",
              "      <td>148.0</td>\n",
              "      <td>72.0</td>\n",
              "      <td>35.0</td>\n",
              "      <td>106.0</td>\n",
              "      <td>33.6</td>\n",
              "      <td>0.627</td>\n",
              "      <td>5</td>\n",
              "      <td>6</td>\n",
              "    </tr>\n",
              "    <tr>\n",
              "      <th>1</th>\n",
              "      <td>85.0</td>\n",
              "      <td>66.0</td>\n",
              "      <td>29.0</td>\n",
              "      <td>106.0</td>\n",
              "      <td>26.6</td>\n",
              "      <td>0.351</td>\n",
              "      <td>31</td>\n",
              "      <td>1</td>\n",
              "    </tr>\n",
              "    <tr>\n",
              "      <th>2</th>\n",
              "      <td>183.0</td>\n",
              "      <td>64.0</td>\n",
              "      <td>26.0</td>\n",
              "      <td>106.0</td>\n",
              "      <td>23.3</td>\n",
              "      <td>0.672</td>\n",
              "      <td>32</td>\n",
              "      <td>8</td>\n",
              "    </tr>\n",
              "    <tr>\n",
              "      <th>3</th>\n",
              "      <td>89.0</td>\n",
              "      <td>66.0</td>\n",
              "      <td>23.0</td>\n",
              "      <td>94.0</td>\n",
              "      <td>28.1</td>\n",
              "      <td>0.167</td>\n",
              "      <td>21</td>\n",
              "      <td>1</td>\n",
              "    </tr>\n",
              "    <tr>\n",
              "      <th>4</th>\n",
              "      <td>137.0</td>\n",
              "      <td>4.0</td>\n",
              "      <td>35.0</td>\n",
              "      <td>168.0</td>\n",
              "      <td>43.1</td>\n",
              "      <td>2.288</td>\n",
              "      <td>33</td>\n",
              "      <td>0</td>\n",
              "    </tr>\n",
              "  </tbody>\n",
              "</table>\n",
              "</div>\n",
              "      <button class=\"colab-df-convert\" onclick=\"convertToInteractive('df-54bd3981-5c4c-4e75-a714-fcb0cd8e8fe4')\"\n",
              "              title=\"Convert this dataframe to an interactive table.\"\n",
              "              style=\"display:none;\">\n",
              "        \n",
              "  <svg xmlns=\"http://www.w3.org/2000/svg\" height=\"24px\"viewBox=\"0 0 24 24\"\n",
              "       width=\"24px\">\n",
              "    <path d=\"M0 0h24v24H0V0z\" fill=\"none\"/>\n",
              "    <path d=\"M18.56 5.44l.94 2.06.94-2.06 2.06-.94-2.06-.94-.94-2.06-.94 2.06-2.06.94zm-11 1L8.5 8.5l.94-2.06 2.06-.94-2.06-.94L8.5 2.5l-.94 2.06-2.06.94zm10 10l.94 2.06.94-2.06 2.06-.94-2.06-.94-.94-2.06-.94 2.06-2.06.94z\"/><path d=\"M17.41 7.96l-1.37-1.37c-.4-.4-.92-.59-1.43-.59-.52 0-1.04.2-1.43.59L10.3 9.45l-7.72 7.72c-.78.78-.78 2.05 0 2.83L4 21.41c.39.39.9.59 1.41.59.51 0 1.02-.2 1.41-.59l7.78-7.78 2.81-2.81c.8-.78.8-2.07 0-2.86zM5.41 20L4 18.59l7.72-7.72 1.47 1.35L5.41 20z\"/>\n",
              "  </svg>\n",
              "      </button>\n",
              "      \n",
              "  <style>\n",
              "    .colab-df-container {\n",
              "      display:flex;\n",
              "      flex-wrap:wrap;\n",
              "      gap: 12px;\n",
              "    }\n",
              "\n",
              "    .colab-df-convert {\n",
              "      background-color: #E8F0FE;\n",
              "      border: none;\n",
              "      border-radius: 50%;\n",
              "      cursor: pointer;\n",
              "      display: none;\n",
              "      fill: #1967D2;\n",
              "      height: 32px;\n",
              "      padding: 0 0 0 0;\n",
              "      width: 32px;\n",
              "    }\n",
              "\n",
              "    .colab-df-convert:hover {\n",
              "      background-color: #E2EBFA;\n",
              "      box-shadow: 0px 1px 2px rgba(60, 64, 67, 0.3), 0px 1px 3px 1px rgba(60, 64, 67, 0.15);\n",
              "      fill: #174EA6;\n",
              "    }\n",
              "\n",
              "    [theme=dark] .colab-df-convert {\n",
              "      background-color: #3B4455;\n",
              "      fill: #D2E3FC;\n",
              "    }\n",
              "\n",
              "    [theme=dark] .colab-df-convert:hover {\n",
              "      background-color: #434B5C;\n",
              "      box-shadow: 0px 1px 3px 1px rgba(0, 0, 0, 0.15);\n",
              "      filter: drop-shadow(0px 1px 2px rgba(0, 0, 0, 0.3));\n",
              "      fill: #FFFFFF;\n",
              "    }\n",
              "  </style>\n",
              "\n",
              "      <script>\n",
              "        const buttonEl =\n",
              "          document.querySelector('#df-54bd3981-5c4c-4e75-a714-fcb0cd8e8fe4 button.colab-df-convert');\n",
              "        buttonEl.style.display =\n",
              "          google.colab.kernel.accessAllowed ? 'block' : 'none';\n",
              "\n",
              "        async function convertToInteractive(key) {\n",
              "          const element = document.querySelector('#df-54bd3981-5c4c-4e75-a714-fcb0cd8e8fe4');\n",
              "          const dataTable =\n",
              "            await google.colab.kernel.invokeFunction('convertToInteractive',\n",
              "                                                     [key], {});\n",
              "          if (!dataTable) return;\n",
              "\n",
              "          const docLinkHtml = 'Like what you see? Visit the ' +\n",
              "            '<a target=\"_blank\" href=https://colab.research.google.com/notebooks/data_table.ipynb>data table notebook</a>'\n",
              "            + ' to learn more about interactive tables.';\n",
              "          element.innerHTML = '';\n",
              "          dataTable['output_type'] = 'display_data';\n",
              "          await google.colab.output.renderOutput(dataTable, element);\n",
              "          const docLink = document.createElement('div');\n",
              "          docLink.innerHTML = docLinkHtml;\n",
              "          element.appendChild(docLink);\n",
              "        }\n",
              "      </script>\n",
              "    </div>\n",
              "  </div>\n",
              "  "
            ]
          },
          "metadata": {},
          "execution_count": 52
        }
      ]
    },
    {
      "cell_type": "code",
      "source": [
        "y.head()"
      ],
      "metadata": {
        "colab": {
          "base_uri": "https://localhost:8080/"
        },
        "id": "4udQWQqsBQAw",
        "outputId": "36595511-2302-435a-8255-983715952824"
      },
      "execution_count": 53,
      "outputs": [
        {
          "output_type": "execute_result",
          "data": {
            "text/plain": [
              "0    1\n",
              "1    0\n",
              "2    1\n",
              "3    0\n",
              "4    1\n",
              "Name: Outcome, dtype: int64"
            ]
          },
          "metadata": {},
          "execution_count": 53
        }
      ]
    },
    {
      "cell_type": "code",
      "source": [
        "from sklearn.model_selection import train_test_split\n",
        "x_train,x_test,y_train,y_test = train_test_split(x, y, test_size=0.2, random_state=3)"
      ],
      "metadata": {
        "id": "2CZNCM44BSRJ"
      },
      "execution_count": 54,
      "outputs": []
    },
    {
      "cell_type": "code",
      "source": [
        "### Now time to Normalize the Data except 'target Values' , only first time can 'fit'(x_train), no need to 'fit'(x_test) second time"
      ],
      "metadata": {
        "id": "VFat5vrxCTQY"
      },
      "execution_count": 55,
      "outputs": []
    },
    {
      "cell_type": "code",
      "source": [
        "from sklearn.preprocessing import MinMaxScaler\n",
        "scaler = MinMaxScaler(feature_range=(0,1))\n",
        "x_train_scaler = scaler.fit_transform(x_train)\n",
        "x_test_scaler = scaler.transform(x_test)"
      ],
      "metadata": {
        "id": "LE9DeOBPCh_o"
      },
      "execution_count": 56,
      "outputs": []
    },
    {
      "cell_type": "code",
      "source": [
        "x_train_scaler"
      ],
      "metadata": {
        "colab": {
          "base_uri": "https://localhost:8080/"
        },
        "id": "WqeBqGUZDo55",
        "outputId": "20d10ded-2115-4229-e8eb-bdd81ba04613"
      },
      "execution_count": 57,
      "outputs": [
        {
          "output_type": "execute_result",
          "data": {
            "text/plain": [
              "array([[0.05583756, 0.45454545, 0.40322581, ..., 0.03577586, 0.53030303,\n",
              "        0.53333333],\n",
              "       [0.63451777, 0.60330579, 0.59677419, ..., 0.02672414, 0.54545455,\n",
              "        0.53333333],\n",
              "       [0.72588832, 0.47107438, 0.43548387, ..., 0.08060345, 0.51515152,\n",
              "        0.26666667],\n",
              "       ...,\n",
              "       [0.04060914, 0.45454545, 0.40322581, ..., 0.21982759, 0.42424242,\n",
              "        0.26666667],\n",
              "       [0.55837563, 0.70247934, 0.29032258, ..., 0.01853448, 0.3030303 ,\n",
              "        0.06666667],\n",
              "       [0.5786802 , 0.04132231, 0.61290323, ..., 0.0625    , 0.01515152,\n",
              "        0.4       ]])"
            ]
          },
          "metadata": {},
          "execution_count": 57
        }
      ]
    },
    {
      "cell_type": "markdown",
      "source": [
        "#### Model - 1: Decision Tree "
      ],
      "metadata": {
        "id": "fvlK4xKREJvq"
      }
    },
    {
      "cell_type": "code",
      "source": [
        "from sklearn.tree import DecisionTreeClassifier\n",
        "from sklearn.metrics import classification_report\n",
        "model = DecisionTreeClassifier(random_state=84, splitter='best', max_features=5)\n",
        "model.fit(x_train_scaler, y_train)\n",
        "predictions = model.predict(x_test_scaler)\n",
        "print(classification_report(y_test,predictions))"
      ],
      "metadata": {
        "colab": {
          "base_uri": "https://localhost:8080/"
        },
        "id": "pGz98XwqD2Ei",
        "outputId": "0b51e8de-99bd-4549-fc7e-54b02b2c9ecd"
      },
      "execution_count": 58,
      "outputs": [
        {
          "output_type": "stream",
          "name": "stdout",
          "text": [
            "              precision    recall  f1-score   support\n",
            "\n",
            "           0       0.71      0.76      0.73        92\n",
            "           1       0.60      0.53      0.56        62\n",
            "\n",
            "    accuracy                           0.67       154\n",
            "   macro avg       0.65      0.65      0.65       154\n",
            "weighted avg       0.66      0.67      0.66       154\n",
            "\n"
          ]
        }
      ]
    },
    {
      "cell_type": "markdown",
      "source": [
        "####Model -2: Random Forest"
      ],
      "metadata": {
        "id": "hPwIIOeRSB_b"
      }
    },
    {
      "cell_type": "code",
      "source": [
        "from sklearn.ensemble import RandomForestClassifier\n",
        "model = RandomForestClassifier(n_estimators = 17, random_state=42, max_features='auto')\n",
        "model.fit(x_train_scaler, y_train)\n",
        "predictions = model.predict(x_test_scaler)\n",
        "print(classification_report(y_test,predictions))"
      ],
      "metadata": {
        "colab": {
          "base_uri": "https://localhost:8080/"
        },
        "id": "9CnLwH__SHHU",
        "outputId": "d8eee165-d780-453f-ddcc-6e9b264a6740"
      },
      "execution_count": 59,
      "outputs": [
        {
          "output_type": "stream",
          "name": "stdout",
          "text": [
            "              precision    recall  f1-score   support\n",
            "\n",
            "           0       0.75      0.87      0.80        92\n",
            "           1       0.74      0.56      0.64        62\n",
            "\n",
            "    accuracy                           0.75       154\n",
            "   macro avg       0.75      0.72      0.72       154\n",
            "weighted avg       0.75      0.75      0.74       154\n",
            "\n"
          ]
        }
      ]
    },
    {
      "cell_type": "markdown",
      "source": [
        "####Model-3:  KNN ( K-Nearest Neghboring)"
      ],
      "metadata": {
        "id": "oIGsDL1kWkAE"
      }
    },
    {
      "cell_type": "code",
      "source": [
        "from sklearn.neighbors import KNeighborsClassifier\n",
        "model = KNeighborsClassifier(n_neighbors = 9, weights='uniform')\n",
        "model.fit(x_train_scaler, y_train)\n",
        "predictions = model.predict(x_test_scaler)\n",
        "print(classification_report(y_test,predictions))"
      ],
      "metadata": {
        "colab": {
          "base_uri": "https://localhost:8080/"
        },
        "id": "PJ9TFS_ZSpQn",
        "outputId": "86c4b2fb-d59b-42a4-c335-fa2a73935297"
      },
      "execution_count": 60,
      "outputs": [
        {
          "output_type": "stream",
          "name": "stdout",
          "text": [
            "              precision    recall  f1-score   support\n",
            "\n",
            "           0       0.69      0.85      0.76        92\n",
            "           1       0.66      0.44      0.52        62\n",
            "\n",
            "    accuracy                           0.68       154\n",
            "   macro avg       0.67      0.64      0.64       154\n",
            "weighted avg       0.68      0.68      0.67       154\n",
            "\n"
          ]
        }
      ]
    },
    {
      "cell_type": "markdown",
      "source": [
        "####Model-4: Support Vector Machine"
      ],
      "metadata": {
        "id": "Ur_AWu4tWu7W"
      }
    },
    {
      "cell_type": "code",
      "source": [
        "from sklearn.svm import SVC\n",
        "model = SVC(kernel='rbf', C=1, gamma=2)\n",
        "model.fit(x_train_scaler, y_train)\n",
        "predictions = model.predict(x_test_scaler)\n",
        "print(classification_report(y_test,predictions))"
      ],
      "metadata": {
        "colab": {
          "base_uri": "https://localhost:8080/"
        },
        "id": "ZN7_l_KQTwXo",
        "outputId": "89607ce3-fc6c-472a-cfe4-d7ce0ca3aa1b"
      },
      "execution_count": 61,
      "outputs": [
        {
          "output_type": "stream",
          "name": "stdout",
          "text": [
            "              precision    recall  f1-score   support\n",
            "\n",
            "           0       0.71      0.87      0.78        92\n",
            "           1       0.71      0.48      0.58        62\n",
            "\n",
            "    accuracy                           0.71       154\n",
            "   macro avg       0.71      0.68      0.68       154\n",
            "weighted avg       0.71      0.71      0.70       154\n",
            "\n"
          ]
        }
      ]
    },
    {
      "cell_type": "markdown",
      "source": [
        "####Model-5 : Logistic Regression"
      ],
      "metadata": {
        "id": "Q5FqwlyzW0vi"
      }
    },
    {
      "cell_type": "code",
      "source": [
        "from sklearn.linear_model import LogisticRegression\n",
        "model = LogisticRegression(max_iter=100, solver='lbfgs',penalty='l2')\n",
        "model.fit(x_train_scaler, y_train)\n",
        "predictions = model.predict(x_test_scaler)\n",
        "print(classification_report(y_test,predictions))"
      ],
      "metadata": {
        "colab": {
          "base_uri": "https://localhost:8080/"
        },
        "id": "7khqQG3pUbb1",
        "outputId": "2dd87427-ef22-48da-da79-ecef7a165272"
      },
      "execution_count": 62,
      "outputs": [
        {
          "output_type": "stream",
          "name": "stdout",
          "text": [
            "              precision    recall  f1-score   support\n",
            "\n",
            "           0       0.68      0.87      0.77        92\n",
            "           1       0.68      0.40      0.51        62\n",
            "\n",
            "    accuracy                           0.68       154\n",
            "   macro avg       0.68      0.64      0.64       154\n",
            "weighted avg       0.68      0.68      0.66       154\n",
            "\n"
          ]
        }
      ]
    },
    {
      "cell_type": "markdown",
      "source": [
        "###Model-6 : Artificial Neural Network (ANN Binary Classifcation)\n",
        "\n",
        "###### FeedForward Neural Network for Binary Classification"
      ],
      "metadata": {
        "id": "8EF428DAW64U"
      }
    },
    {
      "cell_type": "code",
      "source": [
        "from tensorflow.keras.layers import Dense,Dropout\n",
        "from tensorflow.keras.models import Sequential\n",
        "from tensorflow.keras.optimizers import Adam\n",
        "\n",
        "def build_model():\n",
        "  # Sequential NN - Feedforward NN\n",
        "  model = Sequential()\n",
        "  # Units = Num. of Neurons(2 * pow()), Input shape = Num. of features\n",
        "\n",
        "  model.add(Dense(units=64, activation='relu', input_shape= [len(x.keys())]))\n",
        "  model.add(Dropout(0.2))   # if model is overfit then add dropout\n",
        "\n",
        "  # Hidden Layer-I\n",
        "  model.add(Dense(units=128, activation='relu'))\n",
        "  model.add(Dropout(0.2))\n",
        "\n",
        "  # Hidden Layer-II\n",
        "  model.add(Dense(units=128, activation='relu'))\n",
        "  model.add(Dropout(0.2))\n",
        "\n",
        "  # Output Layer\n",
        "  model.add(Dense(units=1, activation='sigmoid'))\n",
        "  \n",
        "  # Optimizer\n",
        "  optimizers = Adam(learning_rate = 0.001)\n",
        "\n",
        "  # Model Compiler\n",
        "  model.compile(loss='binary_crossentropy',\n",
        "                optimizer=optimizers,\n",
        "                metrics=['accuracy'])\n",
        "  \n",
        "  return model\n",
        "\n"
      ],
      "metadata": {
        "id": "6r0cwKA2VqSX"
      },
      "execution_count": 78,
      "outputs": []
    },
    {
      "cell_type": "code",
      "source": [
        "model= build_model()"
      ],
      "metadata": {
        "id": "opn2T7sAetCI"
      },
      "execution_count": 79,
      "outputs": []
    },
    {
      "cell_type": "code",
      "source": [
        "model.summary()"
      ],
      "metadata": {
        "colab": {
          "base_uri": "https://localhost:8080/"
        },
        "id": "YS1BAxtXfFWf",
        "outputId": "226d70be-b12c-40d7-c067-85f29019d4a4"
      },
      "execution_count": 80,
      "outputs": [
        {
          "output_type": "stream",
          "name": "stdout",
          "text": [
            "Model: \"sequential_4\"\n",
            "_________________________________________________________________\n",
            " Layer (type)                Output Shape              Param #   \n",
            "=================================================================\n",
            " dense_6 (Dense)             (None, 64)                576       \n",
            "                                                                 \n",
            " dropout_3 (Dropout)         (None, 64)                0         \n",
            "                                                                 \n",
            " dense_7 (Dense)             (None, 128)               8320      \n",
            "                                                                 \n",
            " dropout_4 (Dropout)         (None, 128)               0         \n",
            "                                                                 \n",
            " dense_8 (Dense)             (None, 128)               16512     \n",
            "                                                                 \n",
            " dropout_5 (Dropout)         (None, 128)               0         \n",
            "                                                                 \n",
            " dense_9 (Dense)             (None, 1)                 129       \n",
            "                                                                 \n",
            "=================================================================\n",
            "Total params: 25,537\n",
            "Trainable params: 25,537\n",
            "Non-trainable params: 0\n",
            "_________________________________________________________________\n"
          ]
        }
      ]
    },
    {
      "cell_type": "markdown",
      "source": [
        "# Model Evaluation\n",
        "## Epochs = no. of iterations\n",
        "## batch size = samples per steps in each epochs\n"
      ],
      "metadata": {
        "id": "_3BJkQLvg7OJ"
      }
    },
    {
      "cell_type": "code",
      "source": [
        "history = model.fit(x_train_scaler, y_train, epochs=350, batch_size=20,validation_split=0.2)"
      ],
      "metadata": {
        "colab": {
          "base_uri": "https://localhost:8080/"
        },
        "id": "26pVkReLgrc4",
        "outputId": "23949b82-35c5-4732-dd19-b8cf63ed9d37"
      },
      "execution_count": 81,
      "outputs": [
        {
          "output_type": "stream",
          "name": "stdout",
          "text": [
            "Epoch 1/350\n",
            "25/25 [==============================] - 1s 13ms/step - loss: 0.6686 - accuracy: 0.6314 - val_loss: 0.6196 - val_accuracy: 0.7236\n",
            "Epoch 2/350\n",
            "25/25 [==============================] - 0s 4ms/step - loss: 0.6547 - accuracy: 0.6477 - val_loss: 0.6115 - val_accuracy: 0.7236\n",
            "Epoch 3/350\n",
            "25/25 [==============================] - 0s 4ms/step - loss: 0.6345 - accuracy: 0.6701 - val_loss: 0.5805 - val_accuracy: 0.7480\n",
            "Epoch 4/350\n",
            "25/25 [==============================] - 0s 4ms/step - loss: 0.6105 - accuracy: 0.6864 - val_loss: 0.6066 - val_accuracy: 0.6667\n",
            "Epoch 5/350\n",
            "25/25 [==============================] - 0s 4ms/step - loss: 0.6065 - accuracy: 0.6945 - val_loss: 0.5538 - val_accuracy: 0.7317\n",
            "Epoch 6/350\n",
            "25/25 [==============================] - 0s 4ms/step - loss: 0.5828 - accuracy: 0.7189 - val_loss: 0.5842 - val_accuracy: 0.6911\n",
            "Epoch 7/350\n",
            "25/25 [==============================] - 0s 4ms/step - loss: 0.5761 - accuracy: 0.7230 - val_loss: 0.5580 - val_accuracy: 0.7398\n",
            "Epoch 8/350\n",
            "25/25 [==============================] - 0s 4ms/step - loss: 0.5671 - accuracy: 0.7352 - val_loss: 0.5227 - val_accuracy: 0.7480\n",
            "Epoch 9/350\n",
            "25/25 [==============================] - 0s 4ms/step - loss: 0.5616 - accuracy: 0.7108 - val_loss: 0.5198 - val_accuracy: 0.7398\n",
            "Epoch 10/350\n",
            "25/25 [==============================] - 0s 4ms/step - loss: 0.5517 - accuracy: 0.7189 - val_loss: 0.5003 - val_accuracy: 0.7480\n",
            "Epoch 11/350\n",
            "25/25 [==============================] - 0s 4ms/step - loss: 0.5405 - accuracy: 0.7393 - val_loss: 0.5363 - val_accuracy: 0.7236\n",
            "Epoch 12/350\n",
            "25/25 [==============================] - 0s 4ms/step - loss: 0.5399 - accuracy: 0.7373 - val_loss: 0.5383 - val_accuracy: 0.7236\n",
            "Epoch 13/350\n",
            "25/25 [==============================] - 0s 4ms/step - loss: 0.5424 - accuracy: 0.7251 - val_loss: 0.4923 - val_accuracy: 0.7561\n",
            "Epoch 14/350\n",
            "25/25 [==============================] - 0s 4ms/step - loss: 0.5204 - accuracy: 0.7332 - val_loss: 0.4798 - val_accuracy: 0.7642\n",
            "Epoch 15/350\n",
            "25/25 [==============================] - 0s 4ms/step - loss: 0.5267 - accuracy: 0.7515 - val_loss: 0.4870 - val_accuracy: 0.7480\n",
            "Epoch 16/350\n",
            "25/25 [==============================] - 0s 4ms/step - loss: 0.4991 - accuracy: 0.7699 - val_loss: 0.4815 - val_accuracy: 0.7724\n",
            "Epoch 17/350\n",
            "25/25 [==============================] - 0s 5ms/step - loss: 0.5173 - accuracy: 0.7495 - val_loss: 0.4722 - val_accuracy: 0.7561\n",
            "Epoch 18/350\n",
            "25/25 [==============================] - 0s 4ms/step - loss: 0.5110 - accuracy: 0.7393 - val_loss: 0.5128 - val_accuracy: 0.7317\n",
            "Epoch 19/350\n",
            "25/25 [==============================] - 0s 4ms/step - loss: 0.4865 - accuracy: 0.7678 - val_loss: 0.4575 - val_accuracy: 0.7967\n",
            "Epoch 20/350\n",
            "25/25 [==============================] - 0s 4ms/step - loss: 0.4907 - accuracy: 0.7637 - val_loss: 0.4527 - val_accuracy: 0.7724\n",
            "Epoch 21/350\n",
            "25/25 [==============================] - 0s 4ms/step - loss: 0.4876 - accuracy: 0.7658 - val_loss: 0.4840 - val_accuracy: 0.7480\n",
            "Epoch 22/350\n",
            "25/25 [==============================] - 0s 4ms/step - loss: 0.4758 - accuracy: 0.7760 - val_loss: 0.5419 - val_accuracy: 0.7398\n",
            "Epoch 23/350\n",
            "25/25 [==============================] - 0s 4ms/step - loss: 0.4840 - accuracy: 0.7597 - val_loss: 0.5076 - val_accuracy: 0.7398\n",
            "Epoch 24/350\n",
            "25/25 [==============================] - 0s 5ms/step - loss: 0.4852 - accuracy: 0.7760 - val_loss: 0.4686 - val_accuracy: 0.7886\n",
            "Epoch 25/350\n",
            "25/25 [==============================] - 0s 4ms/step - loss: 0.4771 - accuracy: 0.7637 - val_loss: 0.4676 - val_accuracy: 0.7805\n",
            "Epoch 26/350\n",
            "25/25 [==============================] - 0s 4ms/step - loss: 0.4725 - accuracy: 0.7617 - val_loss: 0.4541 - val_accuracy: 0.7724\n",
            "Epoch 27/350\n",
            "25/25 [==============================] - 0s 4ms/step - loss: 0.4684 - accuracy: 0.7882 - val_loss: 0.4572 - val_accuracy: 0.7805\n",
            "Epoch 28/350\n",
            "25/25 [==============================] - 0s 4ms/step - loss: 0.4555 - accuracy: 0.7800 - val_loss: 0.4605 - val_accuracy: 0.7886\n",
            "Epoch 29/350\n",
            "25/25 [==============================] - 0s 4ms/step - loss: 0.4663 - accuracy: 0.7658 - val_loss: 0.4840 - val_accuracy: 0.7398\n",
            "Epoch 30/350\n",
            "25/25 [==============================] - 0s 4ms/step - loss: 0.4455 - accuracy: 0.7902 - val_loss: 0.4561 - val_accuracy: 0.7886\n",
            "Epoch 31/350\n",
            "25/25 [==============================] - 0s 4ms/step - loss: 0.4459 - accuracy: 0.7800 - val_loss: 0.4838 - val_accuracy: 0.7642\n",
            "Epoch 32/350\n",
            "25/25 [==============================] - 0s 5ms/step - loss: 0.4534 - accuracy: 0.7923 - val_loss: 0.4584 - val_accuracy: 0.7724\n",
            "Epoch 33/350\n",
            "25/25 [==============================] - 0s 4ms/step - loss: 0.4448 - accuracy: 0.7862 - val_loss: 0.4697 - val_accuracy: 0.7967\n",
            "Epoch 34/350\n",
            "25/25 [==============================] - 0s 4ms/step - loss: 0.4338 - accuracy: 0.8004 - val_loss: 0.4737 - val_accuracy: 0.7886\n",
            "Epoch 35/350\n",
            "25/25 [==============================] - 0s 4ms/step - loss: 0.4551 - accuracy: 0.7821 - val_loss: 0.4641 - val_accuracy: 0.7724\n",
            "Epoch 36/350\n",
            "25/25 [==============================] - 0s 4ms/step - loss: 0.4460 - accuracy: 0.7821 - val_loss: 0.4936 - val_accuracy: 0.7561\n",
            "Epoch 37/350\n",
            "25/25 [==============================] - 0s 4ms/step - loss: 0.4353 - accuracy: 0.7943 - val_loss: 0.4925 - val_accuracy: 0.7642\n",
            "Epoch 38/350\n",
            "25/25 [==============================] - 0s 4ms/step - loss: 0.4262 - accuracy: 0.8065 - val_loss: 0.4695 - val_accuracy: 0.7805\n",
            "Epoch 39/350\n",
            "25/25 [==============================] - 0s 4ms/step - loss: 0.4289 - accuracy: 0.8208 - val_loss: 0.5128 - val_accuracy: 0.7398\n",
            "Epoch 40/350\n",
            "25/25 [==============================] - 0s 4ms/step - loss: 0.4422 - accuracy: 0.7902 - val_loss: 0.4765 - val_accuracy: 0.7886\n",
            "Epoch 41/350\n",
            "25/25 [==============================] - 0s 4ms/step - loss: 0.4225 - accuracy: 0.7963 - val_loss: 0.5456 - val_accuracy: 0.7154\n",
            "Epoch 42/350\n",
            "25/25 [==============================] - 0s 4ms/step - loss: 0.4529 - accuracy: 0.7780 - val_loss: 0.5228 - val_accuracy: 0.7154\n",
            "Epoch 43/350\n",
            "25/25 [==============================] - 0s 5ms/step - loss: 0.4277 - accuracy: 0.7902 - val_loss: 0.4768 - val_accuracy: 0.7886\n",
            "Epoch 44/350\n",
            "25/25 [==============================] - 0s 4ms/step - loss: 0.4115 - accuracy: 0.8187 - val_loss: 0.5349 - val_accuracy: 0.7154\n",
            "Epoch 45/350\n",
            "25/25 [==============================] - 0s 4ms/step - loss: 0.4284 - accuracy: 0.7882 - val_loss: 0.5271 - val_accuracy: 0.7480\n",
            "Epoch 46/350\n",
            "25/25 [==============================] - 0s 4ms/step - loss: 0.4324 - accuracy: 0.8065 - val_loss: 0.5402 - val_accuracy: 0.7154\n",
            "Epoch 47/350\n",
            "25/25 [==============================] - 0s 5ms/step - loss: 0.4276 - accuracy: 0.8106 - val_loss: 0.4993 - val_accuracy: 0.7642\n",
            "Epoch 48/350\n",
            "25/25 [==============================] - 0s 5ms/step - loss: 0.4179 - accuracy: 0.8024 - val_loss: 0.4859 - val_accuracy: 0.7886\n",
            "Epoch 49/350\n",
            "25/25 [==============================] - 0s 4ms/step - loss: 0.4207 - accuracy: 0.8086 - val_loss: 0.4950 - val_accuracy: 0.7642\n",
            "Epoch 50/350\n",
            "25/25 [==============================] - 0s 4ms/step - loss: 0.4042 - accuracy: 0.8147 - val_loss: 0.5014 - val_accuracy: 0.7805\n",
            "Epoch 51/350\n",
            "25/25 [==============================] - 0s 4ms/step - loss: 0.4116 - accuracy: 0.8208 - val_loss: 0.5361 - val_accuracy: 0.7317\n",
            "Epoch 52/350\n",
            "25/25 [==============================] - 0s 4ms/step - loss: 0.4104 - accuracy: 0.8269 - val_loss: 0.5046 - val_accuracy: 0.7724\n",
            "Epoch 53/350\n",
            "25/25 [==============================] - 0s 4ms/step - loss: 0.4199 - accuracy: 0.7902 - val_loss: 0.5062 - val_accuracy: 0.7480\n",
            "Epoch 54/350\n",
            "25/25 [==============================] - 0s 4ms/step - loss: 0.4087 - accuracy: 0.8167 - val_loss: 0.4961 - val_accuracy: 0.7886\n",
            "Epoch 55/350\n",
            "25/25 [==============================] - 0s 4ms/step - loss: 0.4019 - accuracy: 0.8126 - val_loss: 0.4842 - val_accuracy: 0.7886\n",
            "Epoch 56/350\n",
            "25/25 [==============================] - 0s 4ms/step - loss: 0.4074 - accuracy: 0.8045 - val_loss: 0.4785 - val_accuracy: 0.7805\n",
            "Epoch 57/350\n",
            "25/25 [==============================] - 0s 4ms/step - loss: 0.4033 - accuracy: 0.8187 - val_loss: 0.4855 - val_accuracy: 0.7886\n",
            "Epoch 58/350\n",
            "25/25 [==============================] - 0s 4ms/step - loss: 0.3935 - accuracy: 0.8350 - val_loss: 0.4866 - val_accuracy: 0.7967\n",
            "Epoch 59/350\n",
            "25/25 [==============================] - 0s 5ms/step - loss: 0.3995 - accuracy: 0.8126 - val_loss: 0.5001 - val_accuracy: 0.7805\n",
            "Epoch 60/350\n",
            "25/25 [==============================] - 0s 5ms/step - loss: 0.4224 - accuracy: 0.8065 - val_loss: 0.4867 - val_accuracy: 0.7805\n",
            "Epoch 61/350\n",
            "25/25 [==============================] - 0s 5ms/step - loss: 0.4182 - accuracy: 0.7984 - val_loss: 0.5036 - val_accuracy: 0.7724\n",
            "Epoch 62/350\n",
            "25/25 [==============================] - 0s 4ms/step - loss: 0.3922 - accuracy: 0.8187 - val_loss: 0.5137 - val_accuracy: 0.7642\n",
            "Epoch 63/350\n",
            "25/25 [==============================] - 0s 4ms/step - loss: 0.4143 - accuracy: 0.8065 - val_loss: 0.5385 - val_accuracy: 0.7317\n",
            "Epoch 64/350\n",
            "25/25 [==============================] - 0s 5ms/step - loss: 0.3956 - accuracy: 0.8024 - val_loss: 0.4988 - val_accuracy: 0.7805\n",
            "Epoch 65/350\n",
            "25/25 [==============================] - 0s 4ms/step - loss: 0.3863 - accuracy: 0.8147 - val_loss: 0.4851 - val_accuracy: 0.8130\n",
            "Epoch 66/350\n",
            "25/25 [==============================] - 0s 4ms/step - loss: 0.4115 - accuracy: 0.8045 - val_loss: 0.4935 - val_accuracy: 0.7805\n",
            "Epoch 67/350\n",
            "25/25 [==============================] - 0s 4ms/step - loss: 0.3979 - accuracy: 0.8310 - val_loss: 0.5158 - val_accuracy: 0.7561\n",
            "Epoch 68/350\n",
            "25/25 [==============================] - 0s 4ms/step - loss: 0.3980 - accuracy: 0.8086 - val_loss: 0.5181 - val_accuracy: 0.7480\n",
            "Epoch 69/350\n",
            "25/25 [==============================] - 0s 4ms/step - loss: 0.3809 - accuracy: 0.8147 - val_loss: 0.5581 - val_accuracy: 0.7480\n",
            "Epoch 70/350\n",
            "25/25 [==============================] - 0s 4ms/step - loss: 0.4010 - accuracy: 0.8086 - val_loss: 0.5520 - val_accuracy: 0.7236\n",
            "Epoch 71/350\n",
            "25/25 [==============================] - 0s 4ms/step - loss: 0.3971 - accuracy: 0.8269 - val_loss: 0.5951 - val_accuracy: 0.7317\n",
            "Epoch 72/350\n",
            "25/25 [==============================] - 0s 4ms/step - loss: 0.4069 - accuracy: 0.7902 - val_loss: 0.5200 - val_accuracy: 0.7480\n",
            "Epoch 73/350\n",
            "25/25 [==============================] - 0s 4ms/step - loss: 0.3688 - accuracy: 0.8411 - val_loss: 0.4908 - val_accuracy: 0.7724\n",
            "Epoch 74/350\n",
            "25/25 [==============================] - 0s 4ms/step - loss: 0.3900 - accuracy: 0.8147 - val_loss: 0.4859 - val_accuracy: 0.7886\n",
            "Epoch 75/350\n",
            "25/25 [==============================] - 0s 4ms/step - loss: 0.3856 - accuracy: 0.8269 - val_loss: 0.5298 - val_accuracy: 0.7398\n",
            "Epoch 76/350\n",
            "25/25 [==============================] - 0s 4ms/step - loss: 0.3754 - accuracy: 0.8310 - val_loss: 0.5127 - val_accuracy: 0.7642\n",
            "Epoch 77/350\n",
            "25/25 [==============================] - 0s 4ms/step - loss: 0.3704 - accuracy: 0.8330 - val_loss: 0.5163 - val_accuracy: 0.7561\n",
            "Epoch 78/350\n",
            "25/25 [==============================] - 0s 4ms/step - loss: 0.3735 - accuracy: 0.8208 - val_loss: 0.4948 - val_accuracy: 0.7724\n",
            "Epoch 79/350\n",
            "25/25 [==============================] - 0s 4ms/step - loss: 0.3791 - accuracy: 0.8208 - val_loss: 0.4882 - val_accuracy: 0.7967\n",
            "Epoch 80/350\n",
            "25/25 [==============================] - 0s 4ms/step - loss: 0.4009 - accuracy: 0.8208 - val_loss: 0.4798 - val_accuracy: 0.7886\n",
            "Epoch 81/350\n",
            "25/25 [==============================] - 0s 4ms/step - loss: 0.3609 - accuracy: 0.8371 - val_loss: 0.4939 - val_accuracy: 0.7805\n",
            "Epoch 82/350\n",
            "25/25 [==============================] - 0s 4ms/step - loss: 0.3558 - accuracy: 0.8289 - val_loss: 0.5381 - val_accuracy: 0.7480\n",
            "Epoch 83/350\n",
            "25/25 [==============================] - 0s 4ms/step - loss: 0.3805 - accuracy: 0.8330 - val_loss: 0.4955 - val_accuracy: 0.7642\n",
            "Epoch 84/350\n",
            "25/25 [==============================] - 0s 4ms/step - loss: 0.3655 - accuracy: 0.8208 - val_loss: 0.5161 - val_accuracy: 0.7480\n",
            "Epoch 85/350\n",
            "25/25 [==============================] - 0s 4ms/step - loss: 0.3953 - accuracy: 0.8269 - val_loss: 0.5392 - val_accuracy: 0.7154\n",
            "Epoch 86/350\n",
            "25/25 [==============================] - 0s 4ms/step - loss: 0.3780 - accuracy: 0.8147 - val_loss: 0.5289 - val_accuracy: 0.7480\n",
            "Epoch 87/350\n",
            "25/25 [==============================] - 0s 4ms/step - loss: 0.3812 - accuracy: 0.8228 - val_loss: 0.4889 - val_accuracy: 0.7724\n",
            "Epoch 88/350\n",
            "25/25 [==============================] - 0s 4ms/step - loss: 0.3536 - accuracy: 0.8371 - val_loss: 0.5194 - val_accuracy: 0.7642\n",
            "Epoch 89/350\n",
            "25/25 [==============================] - 0s 4ms/step - loss: 0.3517 - accuracy: 0.8228 - val_loss: 0.4900 - val_accuracy: 0.7642\n",
            "Epoch 90/350\n",
            "25/25 [==============================] - 0s 4ms/step - loss: 0.3591 - accuracy: 0.8411 - val_loss: 0.5128 - val_accuracy: 0.7561\n",
            "Epoch 91/350\n",
            "25/25 [==============================] - 0s 4ms/step - loss: 0.3577 - accuracy: 0.8289 - val_loss: 0.5302 - val_accuracy: 0.7642\n",
            "Epoch 92/350\n",
            "25/25 [==============================] - 0s 5ms/step - loss: 0.3675 - accuracy: 0.8350 - val_loss: 0.5408 - val_accuracy: 0.7398\n",
            "Epoch 93/350\n",
            "25/25 [==============================] - 0s 4ms/step - loss: 0.3749 - accuracy: 0.8350 - val_loss: 0.5156 - val_accuracy: 0.7398\n",
            "Epoch 94/350\n",
            "25/25 [==============================] - 0s 4ms/step - loss: 0.3613 - accuracy: 0.8493 - val_loss: 0.5134 - val_accuracy: 0.7480\n",
            "Epoch 95/350\n",
            "25/25 [==============================] - 0s 4ms/step - loss: 0.3324 - accuracy: 0.8635 - val_loss: 0.5366 - val_accuracy: 0.7642\n",
            "Epoch 96/350\n",
            "25/25 [==============================] - 0s 4ms/step - loss: 0.3380 - accuracy: 0.8411 - val_loss: 0.5185 - val_accuracy: 0.7642\n",
            "Epoch 97/350\n",
            "25/25 [==============================] - 0s 4ms/step - loss: 0.3523 - accuracy: 0.8310 - val_loss: 0.5327 - val_accuracy: 0.7642\n",
            "Epoch 98/350\n",
            "25/25 [==============================] - 0s 4ms/step - loss: 0.3240 - accuracy: 0.8554 - val_loss: 0.5395 - val_accuracy: 0.7724\n",
            "Epoch 99/350\n",
            "25/25 [==============================] - 0s 4ms/step - loss: 0.3478 - accuracy: 0.8310 - val_loss: 0.5241 - val_accuracy: 0.7561\n",
            "Epoch 100/350\n",
            "25/25 [==============================] - 0s 4ms/step - loss: 0.3480 - accuracy: 0.8554 - val_loss: 0.5170 - val_accuracy: 0.7480\n",
            "Epoch 101/350\n",
            "25/25 [==============================] - 0s 4ms/step - loss: 0.3421 - accuracy: 0.8432 - val_loss: 0.5200 - val_accuracy: 0.7561\n",
            "Epoch 102/350\n",
            "25/25 [==============================] - 0s 5ms/step - loss: 0.3366 - accuracy: 0.8411 - val_loss: 0.5073 - val_accuracy: 0.7480\n",
            "Epoch 103/350\n",
            "25/25 [==============================] - 0s 4ms/step - loss: 0.3285 - accuracy: 0.8411 - val_loss: 0.5449 - val_accuracy: 0.7561\n",
            "Epoch 104/350\n",
            "25/25 [==============================] - 0s 4ms/step - loss: 0.3527 - accuracy: 0.8228 - val_loss: 0.5272 - val_accuracy: 0.7398\n",
            "Epoch 105/350\n",
            "25/25 [==============================] - 0s 4ms/step - loss: 0.3400 - accuracy: 0.8473 - val_loss: 0.5270 - val_accuracy: 0.7561\n",
            "Epoch 106/350\n",
            "25/25 [==============================] - 0s 4ms/step - loss: 0.3657 - accuracy: 0.8310 - val_loss: 0.5337 - val_accuracy: 0.7398\n",
            "Epoch 107/350\n",
            "25/25 [==============================] - 0s 4ms/step - loss: 0.3170 - accuracy: 0.8554 - val_loss: 0.5396 - val_accuracy: 0.7561\n",
            "Epoch 108/350\n",
            "25/25 [==============================] - 0s 4ms/step - loss: 0.3465 - accuracy: 0.8371 - val_loss: 0.5409 - val_accuracy: 0.7480\n",
            "Epoch 109/350\n",
            "25/25 [==============================] - 0s 4ms/step - loss: 0.3378 - accuracy: 0.8473 - val_loss: 0.5075 - val_accuracy: 0.7886\n",
            "Epoch 110/350\n",
            "25/25 [==============================] - 0s 4ms/step - loss: 0.3287 - accuracy: 0.8391 - val_loss: 0.5170 - val_accuracy: 0.7561\n",
            "Epoch 111/350\n",
            "25/25 [==============================] - 0s 4ms/step - loss: 0.3202 - accuracy: 0.8595 - val_loss: 0.5085 - val_accuracy: 0.7724\n",
            "Epoch 112/350\n",
            "25/25 [==============================] - 0s 4ms/step - loss: 0.3158 - accuracy: 0.8595 - val_loss: 0.5675 - val_accuracy: 0.7398\n",
            "Epoch 113/350\n",
            "25/25 [==============================] - 0s 5ms/step - loss: 0.3237 - accuracy: 0.8676 - val_loss: 0.5425 - val_accuracy: 0.7317\n",
            "Epoch 114/350\n",
            "25/25 [==============================] - 0s 4ms/step - loss: 0.3152 - accuracy: 0.8473 - val_loss: 0.5489 - val_accuracy: 0.7398\n",
            "Epoch 115/350\n",
            "25/25 [==============================] - 0s 4ms/step - loss: 0.3252 - accuracy: 0.8513 - val_loss: 0.5174 - val_accuracy: 0.7642\n",
            "Epoch 116/350\n",
            "25/25 [==============================] - 0s 4ms/step - loss: 0.3463 - accuracy: 0.8248 - val_loss: 0.4936 - val_accuracy: 0.7561\n",
            "Epoch 117/350\n",
            "25/25 [==============================] - 0s 4ms/step - loss: 0.3368 - accuracy: 0.8493 - val_loss: 0.5189 - val_accuracy: 0.7561\n",
            "Epoch 118/350\n",
            "25/25 [==============================] - 0s 4ms/step - loss: 0.3054 - accuracy: 0.8778 - val_loss: 0.5816 - val_accuracy: 0.7317\n",
            "Epoch 119/350\n",
            "25/25 [==============================] - 0s 4ms/step - loss: 0.3275 - accuracy: 0.8473 - val_loss: 0.4865 - val_accuracy: 0.7805\n",
            "Epoch 120/350\n",
            "25/25 [==============================] - 0s 4ms/step - loss: 0.3343 - accuracy: 0.8574 - val_loss: 0.5014 - val_accuracy: 0.7480\n",
            "Epoch 121/350\n",
            "25/25 [==============================] - 0s 4ms/step - loss: 0.3445 - accuracy: 0.8574 - val_loss: 0.5027 - val_accuracy: 0.7724\n",
            "Epoch 122/350\n",
            "25/25 [==============================] - 0s 5ms/step - loss: 0.3380 - accuracy: 0.8432 - val_loss: 0.5694 - val_accuracy: 0.7480\n",
            "Epoch 123/350\n",
            "25/25 [==============================] - 0s 4ms/step - loss: 0.3240 - accuracy: 0.8574 - val_loss: 0.5122 - val_accuracy: 0.7642\n",
            "Epoch 124/350\n",
            "25/25 [==============================] - 0s 4ms/step - loss: 0.3123 - accuracy: 0.8697 - val_loss: 0.5606 - val_accuracy: 0.7317\n",
            "Epoch 125/350\n",
            "25/25 [==============================] - 0s 5ms/step - loss: 0.3222 - accuracy: 0.8350 - val_loss: 0.5551 - val_accuracy: 0.7398\n",
            "Epoch 126/350\n",
            "25/25 [==============================] - 0s 4ms/step - loss: 0.3377 - accuracy: 0.8269 - val_loss: 0.5441 - val_accuracy: 0.7480\n",
            "Epoch 127/350\n",
            "25/25 [==============================] - 0s 5ms/step - loss: 0.3198 - accuracy: 0.8493 - val_loss: 0.4876 - val_accuracy: 0.7724\n",
            "Epoch 128/350\n",
            "25/25 [==============================] - 0s 4ms/step - loss: 0.3204 - accuracy: 0.8595 - val_loss: 0.5287 - val_accuracy: 0.7317\n",
            "Epoch 129/350\n",
            "25/25 [==============================] - 0s 4ms/step - loss: 0.2914 - accuracy: 0.8778 - val_loss: 0.5575 - val_accuracy: 0.7398\n",
            "Epoch 130/350\n",
            "25/25 [==============================] - 0s 4ms/step - loss: 0.3253 - accuracy: 0.8432 - val_loss: 0.5384 - val_accuracy: 0.7561\n",
            "Epoch 131/350\n",
            "25/25 [==============================] - 0s 5ms/step - loss: 0.3018 - accuracy: 0.8635 - val_loss: 0.5454 - val_accuracy: 0.7480\n",
            "Epoch 132/350\n",
            "25/25 [==============================] - 0s 4ms/step - loss: 0.2918 - accuracy: 0.8615 - val_loss: 0.5324 - val_accuracy: 0.7480\n",
            "Epoch 133/350\n",
            "25/25 [==============================] - 0s 4ms/step - loss: 0.3169 - accuracy: 0.8595 - val_loss: 0.5397 - val_accuracy: 0.7398\n",
            "Epoch 134/350\n",
            "25/25 [==============================] - 0s 4ms/step - loss: 0.3134 - accuracy: 0.8615 - val_loss: 0.5313 - val_accuracy: 0.7480\n",
            "Epoch 135/350\n",
            "25/25 [==============================] - 0s 4ms/step - loss: 0.2941 - accuracy: 0.8574 - val_loss: 0.5252 - val_accuracy: 0.7561\n",
            "Epoch 136/350\n",
            "25/25 [==============================] - 0s 5ms/step - loss: 0.3055 - accuracy: 0.8574 - val_loss: 0.5112 - val_accuracy: 0.7398\n",
            "Epoch 137/350\n",
            "25/25 [==============================] - 0s 4ms/step - loss: 0.3062 - accuracy: 0.8534 - val_loss: 0.5241 - val_accuracy: 0.7480\n",
            "Epoch 138/350\n",
            "25/25 [==============================] - 0s 4ms/step - loss: 0.2906 - accuracy: 0.8798 - val_loss: 0.5510 - val_accuracy: 0.7398\n",
            "Epoch 139/350\n",
            "25/25 [==============================] - 0s 4ms/step - loss: 0.2952 - accuracy: 0.8595 - val_loss: 0.5305 - val_accuracy: 0.7317\n",
            "Epoch 140/350\n",
            "25/25 [==============================] - 0s 4ms/step - loss: 0.2820 - accuracy: 0.8798 - val_loss: 0.5198 - val_accuracy: 0.7642\n",
            "Epoch 141/350\n",
            "25/25 [==============================] - 0s 4ms/step - loss: 0.3033 - accuracy: 0.8595 - val_loss: 0.5493 - val_accuracy: 0.7561\n",
            "Epoch 142/350\n",
            "25/25 [==============================] - 0s 4ms/step - loss: 0.3072 - accuracy: 0.8595 - val_loss: 0.5067 - val_accuracy: 0.7724\n",
            "Epoch 143/350\n",
            "25/25 [==============================] - 0s 4ms/step - loss: 0.3070 - accuracy: 0.8574 - val_loss: 0.5045 - val_accuracy: 0.7561\n",
            "Epoch 144/350\n",
            "25/25 [==============================] - 0s 5ms/step - loss: 0.2897 - accuracy: 0.8758 - val_loss: 0.5188 - val_accuracy: 0.7561\n",
            "Epoch 145/350\n",
            "25/25 [==============================] - 0s 4ms/step - loss: 0.2770 - accuracy: 0.8839 - val_loss: 0.5395 - val_accuracy: 0.7398\n",
            "Epoch 146/350\n",
            "25/25 [==============================] - 0s 4ms/step - loss: 0.2787 - accuracy: 0.8717 - val_loss: 0.5407 - val_accuracy: 0.7398\n",
            "Epoch 147/350\n",
            "25/25 [==============================] - 0s 4ms/step - loss: 0.2826 - accuracy: 0.8758 - val_loss: 0.5384 - val_accuracy: 0.7398\n",
            "Epoch 148/350\n",
            "25/25 [==============================] - 0s 4ms/step - loss: 0.2951 - accuracy: 0.8554 - val_loss: 0.5396 - val_accuracy: 0.7398\n",
            "Epoch 149/350\n",
            "25/25 [==============================] - 0s 4ms/step - loss: 0.2977 - accuracy: 0.8635 - val_loss: 0.5108 - val_accuracy: 0.7642\n",
            "Epoch 150/350\n",
            "25/25 [==============================] - 0s 4ms/step - loss: 0.2962 - accuracy: 0.8737 - val_loss: 0.5165 - val_accuracy: 0.7561\n",
            "Epoch 151/350\n",
            "25/25 [==============================] - 0s 4ms/step - loss: 0.2836 - accuracy: 0.8737 - val_loss: 0.5354 - val_accuracy: 0.7480\n",
            "Epoch 152/350\n",
            "25/25 [==============================] - 0s 4ms/step - loss: 0.2601 - accuracy: 0.8839 - val_loss: 0.5885 - val_accuracy: 0.7317\n",
            "Epoch 153/350\n",
            "25/25 [==============================] - 0s 4ms/step - loss: 0.2984 - accuracy: 0.8635 - val_loss: 0.5337 - val_accuracy: 0.7561\n",
            "Epoch 154/350\n",
            "25/25 [==============================] - 0s 5ms/step - loss: 0.3053 - accuracy: 0.8554 - val_loss: 0.5423 - val_accuracy: 0.7154\n",
            "Epoch 155/350\n",
            "25/25 [==============================] - 0s 5ms/step - loss: 0.2651 - accuracy: 0.8900 - val_loss: 0.5343 - val_accuracy: 0.7480\n",
            "Epoch 156/350\n",
            "25/25 [==============================] - 0s 4ms/step - loss: 0.2898 - accuracy: 0.8778 - val_loss: 0.5229 - val_accuracy: 0.7642\n",
            "Epoch 157/350\n",
            "25/25 [==============================] - 0s 4ms/step - loss: 0.2920 - accuracy: 0.8717 - val_loss: 0.5528 - val_accuracy: 0.7561\n",
            "Epoch 158/350\n",
            "25/25 [==============================] - 0s 5ms/step - loss: 0.2896 - accuracy: 0.8737 - val_loss: 0.5805 - val_accuracy: 0.7398\n",
            "Epoch 159/350\n",
            "25/25 [==============================] - 0s 4ms/step - loss: 0.2654 - accuracy: 0.8778 - val_loss: 0.6047 - val_accuracy: 0.7480\n",
            "Epoch 160/350\n",
            "25/25 [==============================] - 0s 5ms/step - loss: 0.2736 - accuracy: 0.8798 - val_loss: 0.5117 - val_accuracy: 0.7398\n",
            "Epoch 161/350\n",
            "25/25 [==============================] - 0s 4ms/step - loss: 0.2766 - accuracy: 0.8798 - val_loss: 0.5322 - val_accuracy: 0.7480\n",
            "Epoch 162/350\n",
            "25/25 [==============================] - 0s 4ms/step - loss: 0.2715 - accuracy: 0.8819 - val_loss: 0.5528 - val_accuracy: 0.7398\n",
            "Epoch 163/350\n",
            "25/25 [==============================] - 0s 5ms/step - loss: 0.2742 - accuracy: 0.8880 - val_loss: 0.5361 - val_accuracy: 0.7398\n",
            "Epoch 164/350\n",
            "25/25 [==============================] - 0s 4ms/step - loss: 0.2900 - accuracy: 0.8615 - val_loss: 0.5069 - val_accuracy: 0.7967\n",
            "Epoch 165/350\n",
            "25/25 [==============================] - 0s 4ms/step - loss: 0.3011 - accuracy: 0.8595 - val_loss: 0.5363 - val_accuracy: 0.7886\n",
            "Epoch 166/350\n",
            "25/25 [==============================] - 0s 5ms/step - loss: 0.2621 - accuracy: 0.8859 - val_loss: 0.5320 - val_accuracy: 0.7642\n",
            "Epoch 167/350\n",
            "25/25 [==============================] - 0s 4ms/step - loss: 0.2659 - accuracy: 0.8798 - val_loss: 0.5506 - val_accuracy: 0.7480\n",
            "Epoch 168/350\n",
            "25/25 [==============================] - 0s 4ms/step - loss: 0.2616 - accuracy: 0.8961 - val_loss: 0.5471 - val_accuracy: 0.7480\n",
            "Epoch 169/350\n",
            "25/25 [==============================] - 0s 4ms/step - loss: 0.2660 - accuracy: 0.8921 - val_loss: 0.5374 - val_accuracy: 0.7480\n",
            "Epoch 170/350\n",
            "25/25 [==============================] - 0s 4ms/step - loss: 0.2744 - accuracy: 0.8880 - val_loss: 0.5247 - val_accuracy: 0.7561\n",
            "Epoch 171/350\n",
            "25/25 [==============================] - 0s 4ms/step - loss: 0.2496 - accuracy: 0.8819 - val_loss: 0.5565 - val_accuracy: 0.7154\n",
            "Epoch 172/350\n",
            "25/25 [==============================] - 0s 5ms/step - loss: 0.2954 - accuracy: 0.8656 - val_loss: 0.5351 - val_accuracy: 0.7398\n",
            "Epoch 173/350\n",
            "25/25 [==============================] - 0s 4ms/step - loss: 0.2689 - accuracy: 0.9002 - val_loss: 0.5781 - val_accuracy: 0.7561\n",
            "Epoch 174/350\n",
            "25/25 [==============================] - 0s 4ms/step - loss: 0.2890 - accuracy: 0.8859 - val_loss: 0.5579 - val_accuracy: 0.7317\n",
            "Epoch 175/350\n",
            "25/25 [==============================] - 0s 5ms/step - loss: 0.2825 - accuracy: 0.8615 - val_loss: 0.5348 - val_accuracy: 0.7317\n",
            "Epoch 176/350\n",
            "25/25 [==============================] - 0s 4ms/step - loss: 0.2451 - accuracy: 0.8900 - val_loss: 0.5984 - val_accuracy: 0.7642\n",
            "Epoch 177/350\n",
            "25/25 [==============================] - 0s 4ms/step - loss: 0.2697 - accuracy: 0.8758 - val_loss: 0.5614 - val_accuracy: 0.7398\n",
            "Epoch 178/350\n",
            "25/25 [==============================] - 0s 5ms/step - loss: 0.2617 - accuracy: 0.8798 - val_loss: 0.5403 - val_accuracy: 0.7561\n",
            "Epoch 179/350\n",
            "25/25 [==============================] - 0s 5ms/step - loss: 0.2461 - accuracy: 0.8900 - val_loss: 0.5235 - val_accuracy: 0.7317\n",
            "Epoch 180/350\n",
            "25/25 [==============================] - 0s 5ms/step - loss: 0.2587 - accuracy: 0.9043 - val_loss: 0.5189 - val_accuracy: 0.7805\n",
            "Epoch 181/350\n",
            "25/25 [==============================] - 0s 4ms/step - loss: 0.2452 - accuracy: 0.8900 - val_loss: 0.6309 - val_accuracy: 0.7561\n",
            "Epoch 182/350\n",
            "25/25 [==============================] - 0s 4ms/step - loss: 0.2762 - accuracy: 0.8635 - val_loss: 0.5992 - val_accuracy: 0.7561\n",
            "Epoch 183/350\n",
            "25/25 [==============================] - 0s 4ms/step - loss: 0.2842 - accuracy: 0.8819 - val_loss: 0.5382 - val_accuracy: 0.7398\n",
            "Epoch 184/350\n",
            "25/25 [==============================] - 0s 4ms/step - loss: 0.2329 - accuracy: 0.8921 - val_loss: 0.5543 - val_accuracy: 0.7236\n",
            "Epoch 185/350\n",
            "25/25 [==============================] - 0s 4ms/step - loss: 0.2486 - accuracy: 0.8961 - val_loss: 0.5627 - val_accuracy: 0.7317\n",
            "Epoch 186/350\n",
            "25/25 [==============================] - 0s 4ms/step - loss: 0.2559 - accuracy: 0.8839 - val_loss: 0.5558 - val_accuracy: 0.7480\n",
            "Epoch 187/350\n",
            "25/25 [==============================] - 0s 5ms/step - loss: 0.2483 - accuracy: 0.9063 - val_loss: 0.5642 - val_accuracy: 0.7398\n",
            "Epoch 188/350\n",
            "25/25 [==============================] - 0s 5ms/step - loss: 0.2342 - accuracy: 0.8880 - val_loss: 0.5402 - val_accuracy: 0.7480\n",
            "Epoch 189/350\n",
            "25/25 [==============================] - 0s 5ms/step - loss: 0.2519 - accuracy: 0.8961 - val_loss: 0.6030 - val_accuracy: 0.7398\n",
            "Epoch 190/350\n",
            "25/25 [==============================] - 0s 5ms/step - loss: 0.2359 - accuracy: 0.8941 - val_loss: 0.5640 - val_accuracy: 0.7398\n",
            "Epoch 191/350\n",
            "25/25 [==============================] - 0s 4ms/step - loss: 0.2334 - accuracy: 0.9022 - val_loss: 0.5564 - val_accuracy: 0.7398\n",
            "Epoch 192/350\n",
            "25/25 [==============================] - 0s 5ms/step - loss: 0.2181 - accuracy: 0.9104 - val_loss: 0.5554 - val_accuracy: 0.7480\n",
            "Epoch 193/350\n",
            "25/25 [==============================] - 0s 4ms/step - loss: 0.2467 - accuracy: 0.8880 - val_loss: 0.5892 - val_accuracy: 0.7398\n",
            "Epoch 194/350\n",
            "25/25 [==============================] - 0s 5ms/step - loss: 0.2328 - accuracy: 0.9124 - val_loss: 0.6055 - val_accuracy: 0.7398\n",
            "Epoch 195/350\n",
            "25/25 [==============================] - 0s 5ms/step - loss: 0.2393 - accuracy: 0.9002 - val_loss: 0.5520 - val_accuracy: 0.7480\n",
            "Epoch 196/350\n",
            "25/25 [==============================] - 0s 5ms/step - loss: 0.2250 - accuracy: 0.8941 - val_loss: 0.5973 - val_accuracy: 0.7398\n",
            "Epoch 197/350\n",
            "25/25 [==============================] - 0s 4ms/step - loss: 0.2479 - accuracy: 0.8941 - val_loss: 0.5374 - val_accuracy: 0.7317\n",
            "Epoch 198/350\n",
            "25/25 [==============================] - 0s 4ms/step - loss: 0.2495 - accuracy: 0.8839 - val_loss: 0.5336 - val_accuracy: 0.7480\n",
            "Epoch 199/350\n",
            "25/25 [==============================] - 0s 5ms/step - loss: 0.2493 - accuracy: 0.9002 - val_loss: 0.5599 - val_accuracy: 0.7480\n",
            "Epoch 200/350\n",
            "25/25 [==============================] - 0s 5ms/step - loss: 0.2430 - accuracy: 0.8982 - val_loss: 0.5468 - val_accuracy: 0.7561\n",
            "Epoch 201/350\n",
            "25/25 [==============================] - 0s 4ms/step - loss: 0.2277 - accuracy: 0.8921 - val_loss: 0.6014 - val_accuracy: 0.7805\n",
            "Epoch 202/350\n",
            "25/25 [==============================] - 0s 5ms/step - loss: 0.2623 - accuracy: 0.8758 - val_loss: 0.5541 - val_accuracy: 0.7642\n",
            "Epoch 203/350\n",
            "25/25 [==============================] - 0s 5ms/step - loss: 0.2373 - accuracy: 0.8921 - val_loss: 0.5313 - val_accuracy: 0.7724\n",
            "Epoch 204/350\n",
            "25/25 [==============================] - 0s 4ms/step - loss: 0.2492 - accuracy: 0.8961 - val_loss: 0.5984 - val_accuracy: 0.7561\n",
            "Epoch 205/350\n",
            "25/25 [==============================] - 0s 5ms/step - loss: 0.2547 - accuracy: 0.8961 - val_loss: 0.5363 - val_accuracy: 0.7642\n",
            "Epoch 206/350\n",
            "25/25 [==============================] - 0s 5ms/step - loss: 0.2407 - accuracy: 0.9022 - val_loss: 0.5620 - val_accuracy: 0.7642\n",
            "Epoch 207/350\n",
            "25/25 [==============================] - 0s 4ms/step - loss: 0.2395 - accuracy: 0.9022 - val_loss: 0.5716 - val_accuracy: 0.7398\n",
            "Epoch 208/350\n",
            "25/25 [==============================] - 0s 4ms/step - loss: 0.2620 - accuracy: 0.8859 - val_loss: 0.5543 - val_accuracy: 0.7480\n",
            "Epoch 209/350\n",
            "25/25 [==============================] - 0s 5ms/step - loss: 0.2438 - accuracy: 0.9002 - val_loss: 0.5282 - val_accuracy: 0.7642\n",
            "Epoch 210/350\n",
            "25/25 [==============================] - 0s 5ms/step - loss: 0.2151 - accuracy: 0.9185 - val_loss: 0.5789 - val_accuracy: 0.7805\n",
            "Epoch 211/350\n",
            "25/25 [==============================] - 0s 4ms/step - loss: 0.2193 - accuracy: 0.9022 - val_loss: 0.5814 - val_accuracy: 0.7398\n",
            "Epoch 212/350\n",
            "25/25 [==============================] - 0s 4ms/step - loss: 0.2186 - accuracy: 0.8921 - val_loss: 0.5445 - val_accuracy: 0.7642\n",
            "Epoch 213/350\n",
            "25/25 [==============================] - 0s 5ms/step - loss: 0.2446 - accuracy: 0.8961 - val_loss: 0.5884 - val_accuracy: 0.7724\n",
            "Epoch 214/350\n",
            "25/25 [==============================] - 0s 5ms/step - loss: 0.2376 - accuracy: 0.9002 - val_loss: 0.5742 - val_accuracy: 0.7642\n",
            "Epoch 215/350\n",
            "25/25 [==============================] - 0s 5ms/step - loss: 0.2295 - accuracy: 0.9165 - val_loss: 0.6609 - val_accuracy: 0.7480\n",
            "Epoch 216/350\n",
            "25/25 [==============================] - 0s 5ms/step - loss: 0.2419 - accuracy: 0.8982 - val_loss: 0.6150 - val_accuracy: 0.7561\n",
            "Epoch 217/350\n",
            "25/25 [==============================] - 0s 4ms/step - loss: 0.2457 - accuracy: 0.8900 - val_loss: 0.5768 - val_accuracy: 0.7642\n",
            "Epoch 218/350\n",
            "25/25 [==============================] - 0s 5ms/step - loss: 0.2208 - accuracy: 0.9022 - val_loss: 0.5458 - val_accuracy: 0.7480\n",
            "Epoch 219/350\n",
            "25/25 [==============================] - 0s 5ms/step - loss: 0.2323 - accuracy: 0.9043 - val_loss: 0.5513 - val_accuracy: 0.7561\n",
            "Epoch 220/350\n",
            "25/25 [==============================] - 0s 5ms/step - loss: 0.2023 - accuracy: 0.9145 - val_loss: 0.5202 - val_accuracy: 0.7886\n",
            "Epoch 221/350\n",
            "25/25 [==============================] - 0s 5ms/step - loss: 0.2228 - accuracy: 0.9145 - val_loss: 0.5625 - val_accuracy: 0.7805\n",
            "Epoch 222/350\n",
            "25/25 [==============================] - 0s 5ms/step - loss: 0.2015 - accuracy: 0.9022 - val_loss: 0.5471 - val_accuracy: 0.7724\n",
            "Epoch 223/350\n",
            "25/25 [==============================] - 0s 4ms/step - loss: 0.2211 - accuracy: 0.9002 - val_loss: 0.5421 - val_accuracy: 0.7805\n",
            "Epoch 224/350\n",
            "25/25 [==============================] - 0s 5ms/step - loss: 0.1922 - accuracy: 0.9206 - val_loss: 0.6155 - val_accuracy: 0.7561\n",
            "Epoch 225/350\n",
            "25/25 [==============================] - 0s 4ms/step - loss: 0.2206 - accuracy: 0.8961 - val_loss: 0.5698 - val_accuracy: 0.7805\n",
            "Epoch 226/350\n",
            "25/25 [==============================] - 0s 5ms/step - loss: 0.2564 - accuracy: 0.8900 - val_loss: 0.6126 - val_accuracy: 0.7561\n",
            "Epoch 227/350\n",
            "25/25 [==============================] - 0s 5ms/step - loss: 0.2028 - accuracy: 0.9104 - val_loss: 0.5831 - val_accuracy: 0.7561\n",
            "Epoch 228/350\n",
            "25/25 [==============================] - 0s 4ms/step - loss: 0.2119 - accuracy: 0.9206 - val_loss: 0.5916 - val_accuracy: 0.7642\n",
            "Epoch 229/350\n",
            "25/25 [==============================] - 0s 5ms/step - loss: 0.1996 - accuracy: 0.9145 - val_loss: 0.6374 - val_accuracy: 0.7561\n",
            "Epoch 230/350\n",
            "25/25 [==============================] - 0s 4ms/step - loss: 0.2119 - accuracy: 0.9145 - val_loss: 0.5448 - val_accuracy: 0.7642\n",
            "Epoch 231/350\n",
            "25/25 [==============================] - 0s 4ms/step - loss: 0.2226 - accuracy: 0.8941 - val_loss: 0.5297 - val_accuracy: 0.7805\n",
            "Epoch 232/350\n",
            "25/25 [==============================] - 0s 4ms/step - loss: 0.2320 - accuracy: 0.8982 - val_loss: 0.6124 - val_accuracy: 0.7398\n",
            "Epoch 233/350\n",
            "25/25 [==============================] - 0s 5ms/step - loss: 0.2505 - accuracy: 0.8798 - val_loss: 0.5713 - val_accuracy: 0.7561\n",
            "Epoch 234/350\n",
            "25/25 [==============================] - 0s 5ms/step - loss: 0.2138 - accuracy: 0.8982 - val_loss: 0.5793 - val_accuracy: 0.7480\n",
            "Epoch 235/350\n",
            "25/25 [==============================] - 0s 4ms/step - loss: 0.2064 - accuracy: 0.8982 - val_loss: 0.5722 - val_accuracy: 0.7480\n",
            "Epoch 236/350\n",
            "25/25 [==============================] - 0s 4ms/step - loss: 0.2376 - accuracy: 0.8941 - val_loss: 0.5908 - val_accuracy: 0.7480\n",
            "Epoch 237/350\n",
            "25/25 [==============================] - 0s 4ms/step - loss: 0.2499 - accuracy: 0.8900 - val_loss: 0.6158 - val_accuracy: 0.7480\n",
            "Epoch 238/350\n",
            "25/25 [==============================] - 0s 5ms/step - loss: 0.2123 - accuracy: 0.9084 - val_loss: 0.5965 - val_accuracy: 0.7642\n",
            "Epoch 239/350\n",
            "25/25 [==============================] - 0s 4ms/step - loss: 0.1946 - accuracy: 0.9124 - val_loss: 0.6078 - val_accuracy: 0.7561\n",
            "Epoch 240/350\n",
            "25/25 [==============================] - 0s 4ms/step - loss: 0.2136 - accuracy: 0.9002 - val_loss: 0.6672 - val_accuracy: 0.7317\n",
            "Epoch 241/350\n",
            "25/25 [==============================] - 0s 5ms/step - loss: 0.1707 - accuracy: 0.9308 - val_loss: 0.6291 - val_accuracy: 0.7480\n",
            "Epoch 242/350\n",
            "25/25 [==============================] - 0s 4ms/step - loss: 0.1998 - accuracy: 0.9104 - val_loss: 0.5776 - val_accuracy: 0.7480\n",
            "Epoch 243/350\n",
            "25/25 [==============================] - 0s 5ms/step - loss: 0.2378 - accuracy: 0.9063 - val_loss: 0.5837 - val_accuracy: 0.7398\n",
            "Epoch 244/350\n",
            "25/25 [==============================] - 0s 4ms/step - loss: 0.2011 - accuracy: 0.9145 - val_loss: 0.5770 - val_accuracy: 0.7480\n",
            "Epoch 245/350\n",
            "25/25 [==============================] - 0s 5ms/step - loss: 0.1760 - accuracy: 0.9430 - val_loss: 0.6561 - val_accuracy: 0.7480\n",
            "Epoch 246/350\n",
            "25/25 [==============================] - 0s 4ms/step - loss: 0.1807 - accuracy: 0.9328 - val_loss: 0.6265 - val_accuracy: 0.7642\n",
            "Epoch 247/350\n",
            "25/25 [==============================] - 0s 4ms/step - loss: 0.2040 - accuracy: 0.9104 - val_loss: 0.6386 - val_accuracy: 0.7561\n",
            "Epoch 248/350\n",
            "25/25 [==============================] - 0s 4ms/step - loss: 0.2132 - accuracy: 0.9022 - val_loss: 0.6099 - val_accuracy: 0.7642\n",
            "Epoch 249/350\n",
            "25/25 [==============================] - 0s 4ms/step - loss: 0.1917 - accuracy: 0.9185 - val_loss: 0.6315 - val_accuracy: 0.7561\n",
            "Epoch 250/350\n",
            "25/25 [==============================] - 0s 5ms/step - loss: 0.2096 - accuracy: 0.9104 - val_loss: 0.5982 - val_accuracy: 0.7480\n",
            "Epoch 251/350\n",
            "25/25 [==============================] - 0s 4ms/step - loss: 0.1956 - accuracy: 0.9165 - val_loss: 0.7118 - val_accuracy: 0.7398\n",
            "Epoch 252/350\n",
            "25/25 [==============================] - 0s 5ms/step - loss: 0.2056 - accuracy: 0.9104 - val_loss: 0.6806 - val_accuracy: 0.7642\n",
            "Epoch 253/350\n",
            "25/25 [==============================] - 0s 5ms/step - loss: 0.2183 - accuracy: 0.9063 - val_loss: 0.6725 - val_accuracy: 0.7561\n",
            "Epoch 254/350\n",
            "25/25 [==============================] - 0s 4ms/step - loss: 0.2392 - accuracy: 0.8880 - val_loss: 0.6141 - val_accuracy: 0.7398\n",
            "Epoch 255/350\n",
            "25/25 [==============================] - 0s 5ms/step - loss: 0.2153 - accuracy: 0.9084 - val_loss: 0.5764 - val_accuracy: 0.7480\n",
            "Epoch 256/350\n",
            "25/25 [==============================] - 0s 4ms/step - loss: 0.1994 - accuracy: 0.9206 - val_loss: 0.6731 - val_accuracy: 0.7398\n",
            "Epoch 257/350\n",
            "25/25 [==============================] - 0s 5ms/step - loss: 0.1821 - accuracy: 0.9328 - val_loss: 0.6726 - val_accuracy: 0.7561\n",
            "Epoch 258/350\n",
            "25/25 [==============================] - 0s 5ms/step - loss: 0.1899 - accuracy: 0.9308 - val_loss: 0.6242 - val_accuracy: 0.7642\n",
            "Epoch 259/350\n",
            "25/25 [==============================] - 0s 4ms/step - loss: 0.1797 - accuracy: 0.9287 - val_loss: 0.6518 - val_accuracy: 0.7642\n",
            "Epoch 260/350\n",
            "25/25 [==============================] - 0s 4ms/step - loss: 0.1572 - accuracy: 0.9409 - val_loss: 0.6897 - val_accuracy: 0.7642\n",
            "Epoch 261/350\n",
            "25/25 [==============================] - 0s 5ms/step - loss: 0.2185 - accuracy: 0.9043 - val_loss: 0.6001 - val_accuracy: 0.7642\n",
            "Epoch 262/350\n",
            "25/25 [==============================] - 0s 4ms/step - loss: 0.2026 - accuracy: 0.9084 - val_loss: 0.6354 - val_accuracy: 0.7480\n",
            "Epoch 263/350\n",
            "25/25 [==============================] - 0s 5ms/step - loss: 0.1937 - accuracy: 0.9246 - val_loss: 0.6894 - val_accuracy: 0.7642\n",
            "Epoch 264/350\n",
            "25/25 [==============================] - 0s 5ms/step - loss: 0.2025 - accuracy: 0.9104 - val_loss: 0.6699 - val_accuracy: 0.7561\n",
            "Epoch 265/350\n",
            "25/25 [==============================] - 0s 4ms/step - loss: 0.2021 - accuracy: 0.9246 - val_loss: 0.6679 - val_accuracy: 0.7561\n",
            "Epoch 266/350\n",
            "25/25 [==============================] - 0s 5ms/step - loss: 0.1889 - accuracy: 0.9246 - val_loss: 0.6111 - val_accuracy: 0.7642\n",
            "Epoch 267/350\n",
            "25/25 [==============================] - 0s 4ms/step - loss: 0.2471 - accuracy: 0.8982 - val_loss: 0.5895 - val_accuracy: 0.7805\n",
            "Epoch 268/350\n",
            "25/25 [==============================] - 0s 4ms/step - loss: 0.2133 - accuracy: 0.9084 - val_loss: 0.6182 - val_accuracy: 0.7480\n",
            "Epoch 269/350\n",
            "25/25 [==============================] - 0s 4ms/step - loss: 0.1827 - accuracy: 0.9287 - val_loss: 0.5883 - val_accuracy: 0.7886\n",
            "Epoch 270/350\n",
            "25/25 [==============================] - 0s 5ms/step - loss: 0.1617 - accuracy: 0.9246 - val_loss: 0.7029 - val_accuracy: 0.7480\n",
            "Epoch 271/350\n",
            "25/25 [==============================] - 0s 5ms/step - loss: 0.1794 - accuracy: 0.9246 - val_loss: 0.7323 - val_accuracy: 0.7561\n",
            "Epoch 272/350\n",
            "25/25 [==============================] - 0s 5ms/step - loss: 0.2014 - accuracy: 0.9348 - val_loss: 0.6711 - val_accuracy: 0.7480\n",
            "Epoch 273/350\n",
            "25/25 [==============================] - 0s 4ms/step - loss: 0.1709 - accuracy: 0.9267 - val_loss: 0.6997 - val_accuracy: 0.7398\n",
            "Epoch 274/350\n",
            "25/25 [==============================] - 0s 5ms/step - loss: 0.1819 - accuracy: 0.9165 - val_loss: 0.6344 - val_accuracy: 0.7561\n",
            "Epoch 275/350\n",
            "25/25 [==============================] - 0s 4ms/step - loss: 0.1917 - accuracy: 0.9185 - val_loss: 0.6998 - val_accuracy: 0.7561\n",
            "Epoch 276/350\n",
            "25/25 [==============================] - 0s 4ms/step - loss: 0.1890 - accuracy: 0.9328 - val_loss: 0.6659 - val_accuracy: 0.7398\n",
            "Epoch 277/350\n",
            "25/25 [==============================] - 0s 5ms/step - loss: 0.1927 - accuracy: 0.9226 - val_loss: 0.6016 - val_accuracy: 0.7724\n",
            "Epoch 278/350\n",
            "25/25 [==============================] - 0s 4ms/step - loss: 0.1655 - accuracy: 0.9328 - val_loss: 0.6768 - val_accuracy: 0.7561\n",
            "Epoch 279/350\n",
            "25/25 [==============================] - 0s 4ms/step - loss: 0.1786 - accuracy: 0.9246 - val_loss: 0.6593 - val_accuracy: 0.7398\n",
            "Epoch 280/350\n",
            "25/25 [==============================] - 0s 5ms/step - loss: 0.2074 - accuracy: 0.9043 - val_loss: 0.6592 - val_accuracy: 0.7561\n",
            "Epoch 281/350\n",
            "25/25 [==============================] - 0s 4ms/step - loss: 0.1908 - accuracy: 0.9206 - val_loss: 0.6879 - val_accuracy: 0.7317\n",
            "Epoch 282/350\n",
            "25/25 [==============================] - 0s 5ms/step - loss: 0.2043 - accuracy: 0.9063 - val_loss: 0.7292 - val_accuracy: 0.7561\n",
            "Epoch 283/350\n",
            "25/25 [==============================] - 0s 5ms/step - loss: 0.1739 - accuracy: 0.9369 - val_loss: 0.6789 - val_accuracy: 0.7642\n",
            "Epoch 284/350\n",
            "25/25 [==============================] - 0s 5ms/step - loss: 0.1943 - accuracy: 0.9206 - val_loss: 0.6953 - val_accuracy: 0.7642\n",
            "Epoch 285/350\n",
            "25/25 [==============================] - 0s 5ms/step - loss: 0.1958 - accuracy: 0.9246 - val_loss: 0.6977 - val_accuracy: 0.7805\n",
            "Epoch 286/350\n",
            "25/25 [==============================] - 0s 4ms/step - loss: 0.1875 - accuracy: 0.9185 - val_loss: 0.6725 - val_accuracy: 0.7642\n",
            "Epoch 287/350\n",
            "25/25 [==============================] - 0s 5ms/step - loss: 0.1805 - accuracy: 0.9287 - val_loss: 0.7245 - val_accuracy: 0.7480\n",
            "Epoch 288/350\n",
            "25/25 [==============================] - 0s 5ms/step - loss: 0.2045 - accuracy: 0.9165 - val_loss: 0.6993 - val_accuracy: 0.7317\n",
            "Epoch 289/350\n",
            "25/25 [==============================] - 0s 4ms/step - loss: 0.1975 - accuracy: 0.9226 - val_loss: 0.6283 - val_accuracy: 0.7480\n",
            "Epoch 290/350\n",
            "25/25 [==============================] - 0s 4ms/step - loss: 0.2034 - accuracy: 0.9145 - val_loss: 0.6413 - val_accuracy: 0.7724\n",
            "Epoch 291/350\n",
            "25/25 [==============================] - 0s 5ms/step - loss: 0.1562 - accuracy: 0.9328 - val_loss: 0.6596 - val_accuracy: 0.7805\n",
            "Epoch 292/350\n",
            "25/25 [==============================] - 0s 4ms/step - loss: 0.1669 - accuracy: 0.9470 - val_loss: 0.6399 - val_accuracy: 0.7642\n",
            "Epoch 293/350\n",
            "25/25 [==============================] - 0s 4ms/step - loss: 0.1556 - accuracy: 0.9450 - val_loss: 0.7327 - val_accuracy: 0.7642\n",
            "Epoch 294/350\n",
            "25/25 [==============================] - 0s 4ms/step - loss: 0.1704 - accuracy: 0.9287 - val_loss: 0.6785 - val_accuracy: 0.7805\n",
            "Epoch 295/350\n",
            "25/25 [==============================] - 0s 5ms/step - loss: 0.1670 - accuracy: 0.9308 - val_loss: 0.7716 - val_accuracy: 0.7561\n",
            "Epoch 296/350\n",
            "25/25 [==============================] - 0s 4ms/step - loss: 0.1862 - accuracy: 0.9267 - val_loss: 0.7171 - val_accuracy: 0.7480\n",
            "Epoch 297/350\n",
            "25/25 [==============================] - 0s 5ms/step - loss: 0.1604 - accuracy: 0.9328 - val_loss: 0.7358 - val_accuracy: 0.7724\n",
            "Epoch 298/350\n",
            "25/25 [==============================] - 0s 4ms/step - loss: 0.1874 - accuracy: 0.9267 - val_loss: 0.6552 - val_accuracy: 0.7967\n",
            "Epoch 299/350\n",
            "25/25 [==============================] - 0s 5ms/step - loss: 0.1984 - accuracy: 0.9124 - val_loss: 0.6605 - val_accuracy: 0.7724\n",
            "Epoch 300/350\n",
            "25/25 [==============================] - 0s 4ms/step - loss: 0.1816 - accuracy: 0.9185 - val_loss: 0.6585 - val_accuracy: 0.7805\n",
            "Epoch 301/350\n",
            "25/25 [==============================] - 0s 5ms/step - loss: 0.1658 - accuracy: 0.9328 - val_loss: 0.6910 - val_accuracy: 0.7561\n",
            "Epoch 302/350\n",
            "25/25 [==============================] - 0s 4ms/step - loss: 0.1948 - accuracy: 0.9104 - val_loss: 0.7237 - val_accuracy: 0.7642\n",
            "Epoch 303/350\n",
            "25/25 [==============================] - 0s 4ms/step - loss: 0.1750 - accuracy: 0.9246 - val_loss: 0.6650 - val_accuracy: 0.7886\n",
            "Epoch 304/350\n",
            "25/25 [==============================] - 0s 5ms/step - loss: 0.1568 - accuracy: 0.9348 - val_loss: 0.6667 - val_accuracy: 0.7561\n",
            "Epoch 305/350\n",
            "25/25 [==============================] - 0s 5ms/step - loss: 0.1788 - accuracy: 0.9348 - val_loss: 0.7315 - val_accuracy: 0.7480\n",
            "Epoch 306/350\n",
            "25/25 [==============================] - 0s 4ms/step - loss: 0.1661 - accuracy: 0.9450 - val_loss: 0.7361 - val_accuracy: 0.7724\n",
            "Epoch 307/350\n",
            "25/25 [==============================] - 0s 5ms/step - loss: 0.1542 - accuracy: 0.9430 - val_loss: 0.7769 - val_accuracy: 0.7561\n",
            "Epoch 308/350\n",
            "25/25 [==============================] - 0s 4ms/step - loss: 0.1562 - accuracy: 0.9185 - val_loss: 0.8181 - val_accuracy: 0.7480\n",
            "Epoch 309/350\n",
            "25/25 [==============================] - 0s 4ms/step - loss: 0.1647 - accuracy: 0.9470 - val_loss: 0.7040 - val_accuracy: 0.7561\n",
            "Epoch 310/350\n",
            "25/25 [==============================] - 0s 5ms/step - loss: 0.1595 - accuracy: 0.9267 - val_loss: 0.7777 - val_accuracy: 0.7724\n",
            "Epoch 311/350\n",
            "25/25 [==============================] - 0s 4ms/step - loss: 0.1936 - accuracy: 0.9084 - val_loss: 0.7409 - val_accuracy: 0.7561\n",
            "Epoch 312/350\n",
            "25/25 [==============================] - 0s 5ms/step - loss: 0.1754 - accuracy: 0.9287 - val_loss: 0.6396 - val_accuracy: 0.7886\n",
            "Epoch 313/350\n",
            "25/25 [==============================] - 0s 4ms/step - loss: 0.1891 - accuracy: 0.9206 - val_loss: 0.7016 - val_accuracy: 0.7642\n",
            "Epoch 314/350\n",
            "25/25 [==============================] - 0s 5ms/step - loss: 0.1796 - accuracy: 0.9348 - val_loss: 0.7110 - val_accuracy: 0.7642\n",
            "Epoch 315/350\n",
            "25/25 [==============================] - 0s 5ms/step - loss: 0.1725 - accuracy: 0.9328 - val_loss: 0.6719 - val_accuracy: 0.7724\n",
            "Epoch 316/350\n",
            "25/25 [==============================] - 0s 5ms/step - loss: 0.1585 - accuracy: 0.9409 - val_loss: 0.7076 - val_accuracy: 0.7724\n",
            "Epoch 317/350\n",
            "25/25 [==============================] - 0s 5ms/step - loss: 0.1710 - accuracy: 0.9287 - val_loss: 0.7706 - val_accuracy: 0.7724\n",
            "Epoch 318/350\n",
            "25/25 [==============================] - 0s 4ms/step - loss: 0.1367 - accuracy: 0.9491 - val_loss: 0.7179 - val_accuracy: 0.7480\n",
            "Epoch 319/350\n",
            "25/25 [==============================] - 0s 4ms/step - loss: 0.1804 - accuracy: 0.9287 - val_loss: 0.7640 - val_accuracy: 0.7561\n",
            "Epoch 320/350\n",
            "25/25 [==============================] - 0s 4ms/step - loss: 0.1696 - accuracy: 0.9185 - val_loss: 0.7204 - val_accuracy: 0.7724\n",
            "Epoch 321/350\n",
            "25/25 [==============================] - 0s 4ms/step - loss: 0.2265 - accuracy: 0.9084 - val_loss: 0.7023 - val_accuracy: 0.7805\n",
            "Epoch 322/350\n",
            "25/25 [==============================] - 0s 5ms/step - loss: 0.1784 - accuracy: 0.9328 - val_loss: 0.7049 - val_accuracy: 0.7642\n",
            "Epoch 323/350\n",
            "25/25 [==============================] - 0s 5ms/step - loss: 0.1705 - accuracy: 0.9328 - val_loss: 0.6997 - val_accuracy: 0.7561\n",
            "Epoch 324/350\n",
            "25/25 [==============================] - 0s 5ms/step - loss: 0.1501 - accuracy: 0.9470 - val_loss: 0.7768 - val_accuracy: 0.7480\n",
            "Epoch 325/350\n",
            "25/25 [==============================] - 0s 4ms/step - loss: 0.1556 - accuracy: 0.9348 - val_loss: 0.7613 - val_accuracy: 0.7561\n",
            "Epoch 326/350\n",
            "25/25 [==============================] - 0s 4ms/step - loss: 0.1665 - accuracy: 0.9226 - val_loss: 0.7214 - val_accuracy: 0.7724\n",
            "Epoch 327/350\n",
            "25/25 [==============================] - 0s 5ms/step - loss: 0.1796 - accuracy: 0.9206 - val_loss: 0.7341 - val_accuracy: 0.7480\n",
            "Epoch 328/350\n",
            "25/25 [==============================] - 0s 5ms/step - loss: 0.1609 - accuracy: 0.9308 - val_loss: 0.7670 - val_accuracy: 0.7724\n",
            "Epoch 329/350\n",
            "25/25 [==============================] - 0s 4ms/step - loss: 0.1669 - accuracy: 0.9450 - val_loss: 0.6532 - val_accuracy: 0.7642\n",
            "Epoch 330/350\n",
            "25/25 [==============================] - 0s 4ms/step - loss: 0.1637 - accuracy: 0.9430 - val_loss: 0.8033 - val_accuracy: 0.7317\n",
            "Epoch 331/350\n",
            "25/25 [==============================] - 0s 4ms/step - loss: 0.1944 - accuracy: 0.9226 - val_loss: 0.7091 - val_accuracy: 0.7642\n",
            "Epoch 332/350\n",
            "25/25 [==============================] - 0s 5ms/step - loss: 0.1865 - accuracy: 0.9328 - val_loss: 0.7466 - val_accuracy: 0.7561\n",
            "Epoch 333/350\n",
            "25/25 [==============================] - 0s 5ms/step - loss: 0.1554 - accuracy: 0.9328 - val_loss: 0.7052 - val_accuracy: 0.7480\n",
            "Epoch 334/350\n",
            "25/25 [==============================] - 0s 5ms/step - loss: 0.1482 - accuracy: 0.9409 - val_loss: 0.7539 - val_accuracy: 0.7642\n",
            "Epoch 335/350\n",
            "25/25 [==============================] - 0s 5ms/step - loss: 0.1281 - accuracy: 0.9552 - val_loss: 0.7363 - val_accuracy: 0.7480\n",
            "Epoch 336/350\n",
            "25/25 [==============================] - 0s 5ms/step - loss: 0.1537 - accuracy: 0.9369 - val_loss: 0.7490 - val_accuracy: 0.7561\n",
            "Epoch 337/350\n",
            "25/25 [==============================] - 0s 5ms/step - loss: 0.1622 - accuracy: 0.9206 - val_loss: 0.7048 - val_accuracy: 0.7886\n",
            "Epoch 338/350\n",
            "25/25 [==============================] - 0s 4ms/step - loss: 0.1457 - accuracy: 0.9409 - val_loss: 0.7730 - val_accuracy: 0.7480\n",
            "Epoch 339/350\n",
            "25/25 [==============================] - 0s 5ms/step - loss: 0.1453 - accuracy: 0.9532 - val_loss: 0.7279 - val_accuracy: 0.7398\n",
            "Epoch 340/350\n",
            "25/25 [==============================] - 0s 5ms/step - loss: 0.1534 - accuracy: 0.9287 - val_loss: 0.8172 - val_accuracy: 0.7724\n",
            "Epoch 341/350\n",
            "25/25 [==============================] - 0s 5ms/step - loss: 0.1700 - accuracy: 0.9348 - val_loss: 0.7241 - val_accuracy: 0.7886\n",
            "Epoch 342/350\n",
            "25/25 [==============================] - 0s 4ms/step - loss: 0.1586 - accuracy: 0.9328 - val_loss: 0.6978 - val_accuracy: 0.7805\n",
            "Epoch 343/350\n",
            "25/25 [==============================] - 0s 4ms/step - loss: 0.1392 - accuracy: 0.9491 - val_loss: 0.7190 - val_accuracy: 0.7561\n",
            "Epoch 344/350\n",
            "25/25 [==============================] - 0s 4ms/step - loss: 0.1275 - accuracy: 0.9532 - val_loss: 0.8296 - val_accuracy: 0.7642\n",
            "Epoch 345/350\n",
            "25/25 [==============================] - 0s 5ms/step - loss: 0.1433 - accuracy: 0.9470 - val_loss: 0.7672 - val_accuracy: 0.7724\n",
            "Epoch 346/350\n",
            "25/25 [==============================] - 0s 4ms/step - loss: 0.1455 - accuracy: 0.9450 - val_loss: 0.7284 - val_accuracy: 0.7642\n",
            "Epoch 347/350\n",
            "25/25 [==============================] - 0s 4ms/step - loss: 0.1292 - accuracy: 0.9491 - val_loss: 0.7394 - val_accuracy: 0.7642\n",
            "Epoch 348/350\n",
            "25/25 [==============================] - 0s 5ms/step - loss: 0.1586 - accuracy: 0.9308 - val_loss: 0.7903 - val_accuracy: 0.7642\n",
            "Epoch 349/350\n",
            "25/25 [==============================] - 0s 4ms/step - loss: 0.1846 - accuracy: 0.9328 - val_loss: 0.6757 - val_accuracy: 0.7886\n",
            "Epoch 350/350\n",
            "25/25 [==============================] - 0s 5ms/step - loss: 0.1665 - accuracy: 0.9369 - val_loss: 0.7191 - val_accuracy: 0.7642\n"
          ]
        }
      ]
    },
    {
      "cell_type": "code",
      "source": [
        "pd.DataFrame(history.history)"
      ],
      "metadata": {
        "colab": {
          "base_uri": "https://localhost:8080/",
          "height": 424
        },
        "id": "J90Ggdq1ibvV",
        "outputId": "75ea4e94-22c9-44ba-d798-5cee04729a4f"
      },
      "execution_count": 82,
      "outputs": [
        {
          "output_type": "execute_result",
          "data": {
            "text/plain": [
              "         loss  accuracy  val_loss  val_accuracy\n",
              "0    0.668581  0.631365  0.619590      0.723577\n",
              "1    0.654687  0.647658  0.611503      0.723577\n",
              "2    0.634475  0.670061  0.580487      0.747967\n",
              "3    0.610539  0.686354  0.606646      0.666667\n",
              "4    0.606547  0.694501  0.553830      0.731707\n",
              "..        ...       ...       ...           ...\n",
              "345  0.145548  0.945010  0.728426      0.764228\n",
              "346  0.129227  0.949084  0.739429      0.764228\n",
              "347  0.158606  0.930754  0.790295      0.764228\n",
              "348  0.184625  0.932790  0.675726      0.788618\n",
              "349  0.166542  0.936864  0.719126      0.764228\n",
              "\n",
              "[350 rows x 4 columns]"
            ],
            "text/html": [
              "\n",
              "  <div id=\"df-c8623af6-76e0-4d17-9862-f8abf7c337e8\">\n",
              "    <div class=\"colab-df-container\">\n",
              "      <div>\n",
              "<style scoped>\n",
              "    .dataframe tbody tr th:only-of-type {\n",
              "        vertical-align: middle;\n",
              "    }\n",
              "\n",
              "    .dataframe tbody tr th {\n",
              "        vertical-align: top;\n",
              "    }\n",
              "\n",
              "    .dataframe thead th {\n",
              "        text-align: right;\n",
              "    }\n",
              "</style>\n",
              "<table border=\"1\" class=\"dataframe\">\n",
              "  <thead>\n",
              "    <tr style=\"text-align: right;\">\n",
              "      <th></th>\n",
              "      <th>loss</th>\n",
              "      <th>accuracy</th>\n",
              "      <th>val_loss</th>\n",
              "      <th>val_accuracy</th>\n",
              "    </tr>\n",
              "  </thead>\n",
              "  <tbody>\n",
              "    <tr>\n",
              "      <th>0</th>\n",
              "      <td>0.668581</td>\n",
              "      <td>0.631365</td>\n",
              "      <td>0.619590</td>\n",
              "      <td>0.723577</td>\n",
              "    </tr>\n",
              "    <tr>\n",
              "      <th>1</th>\n",
              "      <td>0.654687</td>\n",
              "      <td>0.647658</td>\n",
              "      <td>0.611503</td>\n",
              "      <td>0.723577</td>\n",
              "    </tr>\n",
              "    <tr>\n",
              "      <th>2</th>\n",
              "      <td>0.634475</td>\n",
              "      <td>0.670061</td>\n",
              "      <td>0.580487</td>\n",
              "      <td>0.747967</td>\n",
              "    </tr>\n",
              "    <tr>\n",
              "      <th>3</th>\n",
              "      <td>0.610539</td>\n",
              "      <td>0.686354</td>\n",
              "      <td>0.606646</td>\n",
              "      <td>0.666667</td>\n",
              "    </tr>\n",
              "    <tr>\n",
              "      <th>4</th>\n",
              "      <td>0.606547</td>\n",
              "      <td>0.694501</td>\n",
              "      <td>0.553830</td>\n",
              "      <td>0.731707</td>\n",
              "    </tr>\n",
              "    <tr>\n",
              "      <th>...</th>\n",
              "      <td>...</td>\n",
              "      <td>...</td>\n",
              "      <td>...</td>\n",
              "      <td>...</td>\n",
              "    </tr>\n",
              "    <tr>\n",
              "      <th>345</th>\n",
              "      <td>0.145548</td>\n",
              "      <td>0.945010</td>\n",
              "      <td>0.728426</td>\n",
              "      <td>0.764228</td>\n",
              "    </tr>\n",
              "    <tr>\n",
              "      <th>346</th>\n",
              "      <td>0.129227</td>\n",
              "      <td>0.949084</td>\n",
              "      <td>0.739429</td>\n",
              "      <td>0.764228</td>\n",
              "    </tr>\n",
              "    <tr>\n",
              "      <th>347</th>\n",
              "      <td>0.158606</td>\n",
              "      <td>0.930754</td>\n",
              "      <td>0.790295</td>\n",
              "      <td>0.764228</td>\n",
              "    </tr>\n",
              "    <tr>\n",
              "      <th>348</th>\n",
              "      <td>0.184625</td>\n",
              "      <td>0.932790</td>\n",
              "      <td>0.675726</td>\n",
              "      <td>0.788618</td>\n",
              "    </tr>\n",
              "    <tr>\n",
              "      <th>349</th>\n",
              "      <td>0.166542</td>\n",
              "      <td>0.936864</td>\n",
              "      <td>0.719126</td>\n",
              "      <td>0.764228</td>\n",
              "    </tr>\n",
              "  </tbody>\n",
              "</table>\n",
              "<p>350 rows × 4 columns</p>\n",
              "</div>\n",
              "      <button class=\"colab-df-convert\" onclick=\"convertToInteractive('df-c8623af6-76e0-4d17-9862-f8abf7c337e8')\"\n",
              "              title=\"Convert this dataframe to an interactive table.\"\n",
              "              style=\"display:none;\">\n",
              "        \n",
              "  <svg xmlns=\"http://www.w3.org/2000/svg\" height=\"24px\"viewBox=\"0 0 24 24\"\n",
              "       width=\"24px\">\n",
              "    <path d=\"M0 0h24v24H0V0z\" fill=\"none\"/>\n",
              "    <path d=\"M18.56 5.44l.94 2.06.94-2.06 2.06-.94-2.06-.94-.94-2.06-.94 2.06-2.06.94zm-11 1L8.5 8.5l.94-2.06 2.06-.94-2.06-.94L8.5 2.5l-.94 2.06-2.06.94zm10 10l.94 2.06.94-2.06 2.06-.94-2.06-.94-.94-2.06-.94 2.06-2.06.94z\"/><path d=\"M17.41 7.96l-1.37-1.37c-.4-.4-.92-.59-1.43-.59-.52 0-1.04.2-1.43.59L10.3 9.45l-7.72 7.72c-.78.78-.78 2.05 0 2.83L4 21.41c.39.39.9.59 1.41.59.51 0 1.02-.2 1.41-.59l7.78-7.78 2.81-2.81c.8-.78.8-2.07 0-2.86zM5.41 20L4 18.59l7.72-7.72 1.47 1.35L5.41 20z\"/>\n",
              "  </svg>\n",
              "      </button>\n",
              "      \n",
              "  <style>\n",
              "    .colab-df-container {\n",
              "      display:flex;\n",
              "      flex-wrap:wrap;\n",
              "      gap: 12px;\n",
              "    }\n",
              "\n",
              "    .colab-df-convert {\n",
              "      background-color: #E8F0FE;\n",
              "      border: none;\n",
              "      border-radius: 50%;\n",
              "      cursor: pointer;\n",
              "      display: none;\n",
              "      fill: #1967D2;\n",
              "      height: 32px;\n",
              "      padding: 0 0 0 0;\n",
              "      width: 32px;\n",
              "    }\n",
              "\n",
              "    .colab-df-convert:hover {\n",
              "      background-color: #E2EBFA;\n",
              "      box-shadow: 0px 1px 2px rgba(60, 64, 67, 0.3), 0px 1px 3px 1px rgba(60, 64, 67, 0.15);\n",
              "      fill: #174EA6;\n",
              "    }\n",
              "\n",
              "    [theme=dark] .colab-df-convert {\n",
              "      background-color: #3B4455;\n",
              "      fill: #D2E3FC;\n",
              "    }\n",
              "\n",
              "    [theme=dark] .colab-df-convert:hover {\n",
              "      background-color: #434B5C;\n",
              "      box-shadow: 0px 1px 3px 1px rgba(0, 0, 0, 0.15);\n",
              "      filter: drop-shadow(0px 1px 2px rgba(0, 0, 0, 0.3));\n",
              "      fill: #FFFFFF;\n",
              "    }\n",
              "  </style>\n",
              "\n",
              "      <script>\n",
              "        const buttonEl =\n",
              "          document.querySelector('#df-c8623af6-76e0-4d17-9862-f8abf7c337e8 button.colab-df-convert');\n",
              "        buttonEl.style.display =\n",
              "          google.colab.kernel.accessAllowed ? 'block' : 'none';\n",
              "\n",
              "        async function convertToInteractive(key) {\n",
              "          const element = document.querySelector('#df-c8623af6-76e0-4d17-9862-f8abf7c337e8');\n",
              "          const dataTable =\n",
              "            await google.colab.kernel.invokeFunction('convertToInteractive',\n",
              "                                                     [key], {});\n",
              "          if (!dataTable) return;\n",
              "\n",
              "          const docLinkHtml = 'Like what you see? Visit the ' +\n",
              "            '<a target=\"_blank\" href=https://colab.research.google.com/notebooks/data_table.ipynb>data table notebook</a>'\n",
              "            + ' to learn more about interactive tables.';\n",
              "          element.innerHTML = '';\n",
              "          dataTable['output_type'] = 'display_data';\n",
              "          await google.colab.output.renderOutput(dataTable, element);\n",
              "          const docLink = document.createElement('div');\n",
              "          docLink.innerHTML = docLinkHtml;\n",
              "          element.appendChild(docLink);\n",
              "        }\n",
              "      </script>\n",
              "    </div>\n",
              "  </div>\n",
              "  "
            ]
          },
          "metadata": {},
          "execution_count": 82
        }
      ]
    },
    {
      "cell_type": "code",
      "source": [
        "pd.DataFrame(history.history)[['accuracy','val_accuracy']].plot(figsize=(7,6))"
      ],
      "metadata": {
        "colab": {
          "base_uri": "https://localhost:8080/",
          "height": 391
        },
        "id": "PptNv7t2kmfw",
        "outputId": "92ab2f8d-0442-41c4-95a4-32e221ebfd74"
      },
      "execution_count": 84,
      "outputs": [
        {
          "output_type": "execute_result",
          "data": {
            "text/plain": [
              "<matplotlib.axes._subplots.AxesSubplot at 0x7fe2fd1cecd0>"
            ]
          },
          "metadata": {},
          "execution_count": 84
        },
        {
          "output_type": "display_data",
          "data": {
            "text/plain": [
              "<Figure size 504x432 with 1 Axes>"
            ],
            "image/png": "[encoded data removed]"
          },
          "metadata": {
            "needs_background": "light"
          }
        }
      ]
    },
    {
      "cell_type": "code",
      "source": [
        "model.evaluate(x_test_scaler,y_test)"
      ],
      "metadata": {
        "colab": {
          "base_uri": "https://localhost:8080/"
        },
        "id": "d_8jL4u7kou0",
        "outputId": "7f2c4456-4de3-4c64-9a29-18728c046632"
      },
      "execution_count": 85,
      "outputs": [
        {
          "output_type": "stream",
          "name": "stdout",
          "text": [
            "5/5 [==============================] - 0s 4ms/step - loss: 1.4327 - accuracy: 0.6623\n"
          ]
        },
        {
          "output_type": "execute_result",
          "data": {
            "text/plain": [
              "[1.4327443838119507, 0.6623376607894897]"
            ]
          },
          "metadata": {},
          "execution_count": 85
        }
      ]
    },
    {
      "cell_type": "markdown",
      "source": [
        "# Classification Metrics"
      ],
      "metadata": {
        "id": "A60HdpWllQhn"
      }
    },
    {
      "cell_type": "code",
      "source": [],
      "metadata": {
        "id": "6_qQdhE0lmsP"
      },
      "execution_count": null,
      "outputs": []
    },
    {
      "cell_type": "code",
      "source": [
        "predict = model.predict(x_test_scaler)"
      ],
      "metadata": {
        "colab": {
          "base_uri": "https://localhost:8080/"
        },
        "id": "nGEkbx6Dk4pT",
        "outputId": "0d98aec1-6506-4113-f973-6e6a472d1463"
      },
      "execution_count": 86,
      "outputs": [
        {
          "output_type": "stream",
          "name": "stdout",
          "text": [
            "5/5 [==============================] - 0s 4ms/step\n"
          ]
        }
      ]
    },
    {
      "cell_type": "code",
      "source": [
        "yhat=np.round(predict)"
      ],
      "metadata": {
        "id": "fgzGeGzNlbFz"
      },
      "execution_count": 87,
      "outputs": []
    },
    {
      "cell_type": "markdown",
      "source": [
        "# Confusion Matrix between True prediction and false prediction"
      ],
      "metadata": {
        "id": "Lz_2jre8ljxm"
      }
    },
    {
      "cell_type": "code",
      "source": [
        "from sklearn.metrics import confusion_matrix\n",
        "confusion_matrix(y_test, yhat)\n",
        "sns.heatmap(confusion_matrix(y_test,yhat), annot=True)"
      ],
      "metadata": {
        "colab": {
          "base_uri": "https://localhost:8080/",
          "height": 282
        },
        "id": "w8H3peqOlhUZ",
        "outputId": "8f6412c4-0cd1-4e95-8939-1a1dea51967f"
      },
      "execution_count": 91,
      "outputs": [
        {
          "output_type": "execute_result",
          "data": {
            "text/plain": [
              "<matplotlib.axes._subplots.AxesSubplot at 0x7fe3010d7310>"
            ]
          },
          "metadata": {},
          "execution_count": 91
        },
        {
          "output_type": "display_data",
          "data": {
            "text/plain": [
              "<Figure size 432x288 with 2 Axes>"
            ],
            "image/png": "[encoded data removed]"
          },
          "metadata": {
            "needs_background": "light"
          }
        }
      ]
    },
    {
      "cell_type": "markdown",
      "source": [
        "# Classification report"
      ],
      "metadata": {
        "id": "2fjc1-OpmvuG"
      }
    },
    {
      "cell_type": "code",
      "source": [
        "from sklearn.metrics import classification_report\n",
        "print(classification_report(y_test,yhat))"
      ],
      "metadata": {
        "colab": {
          "base_uri": "https://localhost:8080/"
        },
        "id": "RTS_2JpbmMDq",
        "outputId": "627280db-2754-430b-f452-cb325dbf3de9"
      },
      "execution_count": 94,
      "outputs": [
        {
          "output_type": "stream",
          "name": "stdout",
          "text": [
            "              precision    recall  f1-score   support\n",
            "\n",
            "           0       0.67      0.85      0.75        92\n",
            "           1       0.63      0.39      0.48        62\n",
            "\n",
            "    accuracy                           0.66       154\n",
            "   macro avg       0.65      0.62      0.61       154\n",
            "weighted avg       0.66      0.66      0.64       154\n",
            "\n"
          ]
        }
      ]
    },
    {
      "cell_type": "code",
      "source": [],
      "metadata": {
        "id": "JCaSAB2xnCUh"
      },
      "execution_count": null,
      "outputs": []
    }
  ]
}